{
  "nbformat": 4,
  "nbformat_minor": 0,
  "metadata": {
    "colab": {
      "name": "Untitled6.ipynb",
      "provenance": [],
      "collapsed_sections": []
    },
    "kernelspec": {
      "name": "python3",
      "display_name": "Python 3"
    }
  },
  "cells": [
    {
      "cell_type": "code",
      "metadata": {
        "id": "-AFirQ8tTcL4",
        "colab_type": "code",
        "colab": {}
      },
      "source": [
        "import pandas as pd\n",
        "import sklearn.linear_model\n",
        "import matplotlib.pyplot as plt\n",
        "import seaborn as sns\n",
        "from sklearn.linear_model import LinearRegression\n",
        "import numpy as np\n",
        "from sklearn.model_selection import train_test_split"
      ],
      "execution_count": 0,
      "outputs": []
    },
    {
      "cell_type": "code",
      "metadata": {
        "id": "sQcBSuyXTlME",
        "colab_type": "code",
        "colab": {}
      },
      "source": [
        "#1. Загрузка файлов и перименование полей\n",
        "ratings = pd.read_csv('u.data.csv', sep=\"\\t\", header=None)\n",
        "ratings = ratings.rename(\n",
        "               columns={\n",
        "                   0:\"user id\",\n",
        "                   1:\"item id\",\n",
        "                   2:\"rating\",\n",
        "                   3:\"timestamp\"\n",
        "               }\n",
        ")\n",
        "movies = pd.read_csv('u.item.csv', sep=\"|\", header=None)\n",
        "movies = movies.rename(\n",
        "               columns={\n",
        "                   0:\"movie id\",\n",
        "                   1:\"movie title\",\n",
        "                   2:\"release date\",\n",
        "                   3:\"video release date\",\n",
        "                   4:\"IMDb URL\",\n",
        "                   5:\"unknown\",\n",
        "                   6:\"Action\",\n",
        "                   7:\"Adventure\",\n",
        "                   8:\"Animation\",\n",
        "                   9:\"Children's\",\n",
        "                   10:\"Comedy\",\n",
        "                   11:\"Crime\",\n",
        "                   12:\"Documentary\",\n",
        "                   13:\"Drama\",\n",
        "                   14:\"Fantasy\",\n",
        "                   15:\"Film-Noir\",\n",
        "                   16:\"Horror\",\n",
        "                   17:\"Musica\",\n",
        "                   18:\"Mystery\",\n",
        "                   19:\"Romance\",\n",
        "                   20:\"Sci-Fi\",\n",
        "                   21:\"Thriller\",\n",
        "                   22:\"War\",\n",
        "                   23:\"Western\"\n",
        "               }\n",
        ")"
      ],
      "execution_count": 0,
      "outputs": []
    },
    {
      "cell_type": "code",
      "metadata": {
        "id": "jn1CxKi-TqCj",
        "colab_type": "code",
        "colab": {
          "base_uri": "https://localhost:8080/",
          "height": 51
        },
        "outputId": "6b36e31f-0efc-40a6-b3ae-6182ea095286"
      },
      "source": [
        "#2. ID пользователя с наибольшим кол-ом оценок\n",
        "top_user = ratings.groupby('user id').count().sort_values('item id', ascending=False).reset_index()[:1]['user id']\n",
        "top_user"
      ],
      "execution_count": 4,
      "outputs": [
        {
          "output_type": "execute_result",
          "data": {
            "text/plain": [
              "0    405\n",
              "Name: user id, dtype: int64"
            ]
          },
          "metadata": {
            "tags": []
          },
          "execution_count": 4
        }
      ]
    },
    {
      "cell_type": "code",
      "metadata": {
        "id": "-7EfXeoTTrbI",
        "colab_type": "code",
        "colab": {
          "base_uri": "https://localhost:8080/",
          "height": 204
        },
        "outputId": "9451904c-59a0-4705-b9a4-4728d2ee345f"
      },
      "source": [
        "#3. Фильмы, которые выбра top_user\n",
        "subset_ratings = ratings[ratings['user id'] == top_user.values[0]]\n",
        "subset_ratings.head()"
      ],
      "execution_count": 5,
      "outputs": [
        {
          "output_type": "execute_result",
          "data": {
            "text/html": [
              "<div>\n",
              "<style scoped>\n",
              "    .dataframe tbody tr th:only-of-type {\n",
              "        vertical-align: middle;\n",
              "    }\n",
              "\n",
              "    .dataframe tbody tr th {\n",
              "        vertical-align: top;\n",
              "    }\n",
              "\n",
              "    .dataframe thead th {\n",
              "        text-align: right;\n",
              "    }\n",
              "</style>\n",
              "<table border=\"1\" class=\"dataframe\">\n",
              "  <thead>\n",
              "    <tr style=\"text-align: right;\">\n",
              "      <th></th>\n",
              "      <th>user id</th>\n",
              "      <th>item id</th>\n",
              "      <th>rating</th>\n",
              "      <th>timestamp</th>\n",
              "    </tr>\n",
              "  </thead>\n",
              "  <tbody>\n",
              "    <tr>\n",
              "      <th>12276</th>\n",
              "      <td>405</td>\n",
              "      <td>56</td>\n",
              "      <td>4</td>\n",
              "      <td>885544911</td>\n",
              "    </tr>\n",
              "    <tr>\n",
              "      <th>12383</th>\n",
              "      <td>405</td>\n",
              "      <td>592</td>\n",
              "      <td>1</td>\n",
              "      <td>885548670</td>\n",
              "    </tr>\n",
              "    <tr>\n",
              "      <th>12430</th>\n",
              "      <td>405</td>\n",
              "      <td>1582</td>\n",
              "      <td>1</td>\n",
              "      <td>885548670</td>\n",
              "    </tr>\n",
              "    <tr>\n",
              "      <th>12449</th>\n",
              "      <td>405</td>\n",
              "      <td>171</td>\n",
              "      <td>1</td>\n",
              "      <td>885549544</td>\n",
              "    </tr>\n",
              "    <tr>\n",
              "      <th>12460</th>\n",
              "      <td>405</td>\n",
              "      <td>580</td>\n",
              "      <td>1</td>\n",
              "      <td>885547447</td>\n",
              "    </tr>\n",
              "  </tbody>\n",
              "</table>\n",
              "</div>"
            ],
            "text/plain": [
              "       user id  item id  rating  timestamp\n",
              "12276      405       56       4  885544911\n",
              "12383      405      592       1  885548670\n",
              "12430      405     1582       1  885548670\n",
              "12449      405      171       1  885549544\n",
              "12460      405      580       1  885547447"
            ]
          },
          "metadata": {
            "tags": []
          },
          "execution_count": 5
        }
      ]
    },
    {
      "cell_type": "code",
      "metadata": {
        "id": "pLIbYrAATsyB",
        "colab_type": "code",
        "colab": {}
      },
      "source": [
        "#4. Добавление полей\n",
        "subset_ratings_join = subset_ratings.merge(movies, \n",
        "                     how='left', left_on = 'item id', right_on = 'movie id')"
      ],
      "execution_count": 0,
      "outputs": []
    },
    {
      "cell_type": "code",
      "metadata": {
        "id": "g4XmuKguTt4h",
        "colab_type": "code",
        "colab": {}
      },
      "source": [
        "subset_ratings_join['Year'] = subset_ratings_join['release date'].str.split(\"-\", expand = True)[2]"
      ],
      "execution_count": 0,
      "outputs": []
    },
    {
      "cell_type": "code",
      "metadata": {
        "id": "sxzMdY2NTu51",
        "colab_type": "code",
        "colab": {}
      },
      "source": [
        "all_ratings = ratings.groupby('item id').agg(['sum','count'])['rating'].reset_index()\n",
        "all_ratings = all_ratings.rename(\n",
        "               columns={\n",
        "                   \"sum\":\"Sum ratings\",\n",
        "                   \"count\":\"Count ratings\"})"
      ],
      "execution_count": 0,
      "outputs": []
    },
    {
      "cell_type": "code",
      "metadata": {
        "id": "10TUG7-BTv7S",
        "colab_type": "code",
        "colab": {}
      },
      "source": [
        "subset_ratings_join = subset_ratings_join.merge(all_ratings, how = 'left', on='item id')"
      ],
      "execution_count": 0,
      "outputs": []
    },
    {
      "cell_type": "code",
      "metadata": {
        "id": "sHJh4RSFTxWI",
        "colab_type": "code",
        "colab": {}
      },
      "source": [
        "subset_ratings_join = subset_ratings_join.drop(['movie id', 'video release date', 'IMDb URL', 'timestamp',\n",
        "                         'movie title', 'release date', 'user id', 'item id'], axis=1)"
      ],
      "execution_count": 0,
      "outputs": []
    },
    {
      "cell_type": "code",
      "metadata": {
        "id": "tlIQZPOnTyX6",
        "colab_type": "code",
        "colab": {
          "base_uri": "https://localhost:8080/",
          "height": 241
        },
        "outputId": "b8414d0b-9697-40f6-d76d-38306f18f571"
      },
      "source": [
        "subset_ratings_join.head()"
      ],
      "execution_count": 11,
      "outputs": [
        {
          "output_type": "execute_result",
          "data": {
            "text/html": [
              "<div>\n",
              "<style scoped>\n",
              "    .dataframe tbody tr th:only-of-type {\n",
              "        vertical-align: middle;\n",
              "    }\n",
              "\n",
              "    .dataframe tbody tr th {\n",
              "        vertical-align: top;\n",
              "    }\n",
              "\n",
              "    .dataframe thead th {\n",
              "        text-align: right;\n",
              "    }\n",
              "</style>\n",
              "<table border=\"1\" class=\"dataframe\">\n",
              "  <thead>\n",
              "    <tr style=\"text-align: right;\">\n",
              "      <th></th>\n",
              "      <th>rating</th>\n",
              "      <th>unknown</th>\n",
              "      <th>Action</th>\n",
              "      <th>Adventure</th>\n",
              "      <th>Animation</th>\n",
              "      <th>Children's</th>\n",
              "      <th>Comedy</th>\n",
              "      <th>Crime</th>\n",
              "      <th>Documentary</th>\n",
              "      <th>Drama</th>\n",
              "      <th>Fantasy</th>\n",
              "      <th>Film-Noir</th>\n",
              "      <th>Horror</th>\n",
              "      <th>Musica</th>\n",
              "      <th>Mystery</th>\n",
              "      <th>Romance</th>\n",
              "      <th>Sci-Fi</th>\n",
              "      <th>Thriller</th>\n",
              "      <th>War</th>\n",
              "      <th>Western</th>\n",
              "      <th>Year</th>\n",
              "      <th>Sum ratings</th>\n",
              "      <th>Count ratings</th>\n",
              "    </tr>\n",
              "  </thead>\n",
              "  <tbody>\n",
              "    <tr>\n",
              "      <th>0</th>\n",
              "      <td>4</td>\n",
              "      <td>0</td>\n",
              "      <td>0</td>\n",
              "      <td>0</td>\n",
              "      <td>0</td>\n",
              "      <td>0</td>\n",
              "      <td>0</td>\n",
              "      <td>1</td>\n",
              "      <td>0</td>\n",
              "      <td>1</td>\n",
              "      <td>0</td>\n",
              "      <td>0</td>\n",
              "      <td>0</td>\n",
              "      <td>0</td>\n",
              "      <td>0</td>\n",
              "      <td>0</td>\n",
              "      <td>0</td>\n",
              "      <td>0</td>\n",
              "      <td>0</td>\n",
              "      <td>0</td>\n",
              "      <td>1994</td>\n",
              "      <td>1600</td>\n",
              "      <td>394</td>\n",
              "    </tr>\n",
              "    <tr>\n",
              "      <th>1</th>\n",
              "      <td>1</td>\n",
              "      <td>0</td>\n",
              "      <td>0</td>\n",
              "      <td>0</td>\n",
              "      <td>0</td>\n",
              "      <td>0</td>\n",
              "      <td>0</td>\n",
              "      <td>0</td>\n",
              "      <td>0</td>\n",
              "      <td>0</td>\n",
              "      <td>0</td>\n",
              "      <td>0</td>\n",
              "      <td>0</td>\n",
              "      <td>0</td>\n",
              "      <td>1</td>\n",
              "      <td>0</td>\n",
              "      <td>0</td>\n",
              "      <td>1</td>\n",
              "      <td>0</td>\n",
              "      <td>0</td>\n",
              "      <td>1995</td>\n",
              "      <td>30</td>\n",
              "      <td>9</td>\n",
              "    </tr>\n",
              "    <tr>\n",
              "      <th>2</th>\n",
              "      <td>1</td>\n",
              "      <td>0</td>\n",
              "      <td>0</td>\n",
              "      <td>0</td>\n",
              "      <td>0</td>\n",
              "      <td>0</td>\n",
              "      <td>0</td>\n",
              "      <td>0</td>\n",
              "      <td>0</td>\n",
              "      <td>0</td>\n",
              "      <td>0</td>\n",
              "      <td>1</td>\n",
              "      <td>0</td>\n",
              "      <td>0</td>\n",
              "      <td>0</td>\n",
              "      <td>0</td>\n",
              "      <td>0</td>\n",
              "      <td>0</td>\n",
              "      <td>0</td>\n",
              "      <td>0</td>\n",
              "      <td>1947</td>\n",
              "      <td>1</td>\n",
              "      <td>1</td>\n",
              "    </tr>\n",
              "    <tr>\n",
              "      <th>3</th>\n",
              "      <td>1</td>\n",
              "      <td>0</td>\n",
              "      <td>0</td>\n",
              "      <td>0</td>\n",
              "      <td>0</td>\n",
              "      <td>0</td>\n",
              "      <td>1</td>\n",
              "      <td>0</td>\n",
              "      <td>0</td>\n",
              "      <td>0</td>\n",
              "      <td>0</td>\n",
              "      <td>0</td>\n",
              "      <td>0</td>\n",
              "      <td>0</td>\n",
              "      <td>0</td>\n",
              "      <td>0</td>\n",
              "      <td>1</td>\n",
              "      <td>0</td>\n",
              "      <td>0</td>\n",
              "      <td>0</td>\n",
              "      <td>1991</td>\n",
              "      <td>252</td>\n",
              "      <td>65</td>\n",
              "    </tr>\n",
              "    <tr>\n",
              "      <th>4</th>\n",
              "      <td>1</td>\n",
              "      <td>0</td>\n",
              "      <td>0</td>\n",
              "      <td>0</td>\n",
              "      <td>0</td>\n",
              "      <td>0</td>\n",
              "      <td>1</td>\n",
              "      <td>0</td>\n",
              "      <td>0</td>\n",
              "      <td>0</td>\n",
              "      <td>0</td>\n",
              "      <td>0</td>\n",
              "      <td>0</td>\n",
              "      <td>0</td>\n",
              "      <td>0</td>\n",
              "      <td>1</td>\n",
              "      <td>0</td>\n",
              "      <td>0</td>\n",
              "      <td>0</td>\n",
              "      <td>0</td>\n",
              "      <td>1995</td>\n",
              "      <td>108</td>\n",
              "      <td>32</td>\n",
              "    </tr>\n",
              "  </tbody>\n",
              "</table>\n",
              "</div>"
            ],
            "text/plain": [
              "   rating  unknown  Action  ...  Year  Sum ratings  Count ratings\n",
              "0       4        0       0  ...  1994         1600            394\n",
              "1       1        0       0  ...  1995           30              9\n",
              "2       1        0       0  ...  1947            1              1\n",
              "3       1        0       0  ...  1991          252             65\n",
              "4       1        0       0  ...  1995          108             32\n",
              "\n",
              "[5 rows x 23 columns]"
            ]
          },
          "metadata": {
            "tags": []
          },
          "execution_count": 11
        }
      ]
    },
    {
      "cell_type": "code",
      "metadata": {
        "id": "d1Nl8c9PTzTP",
        "colab_type": "code",
        "colab": {}
      },
      "source": [
        "rating = subset_ratings_join['rating']\n",
        "variables = subset_ratings_join.drop(['rating'], axis=1)\n",
        "model = LinearRegression()"
      ],
      "execution_count": 0,
      "outputs": []
    },
    {
      "cell_type": "code",
      "metadata": {
        "id": "-_uatUaFT1M8",
        "colab_type": "code",
        "colab": {}
      },
      "source": [
        "#5. Трейн-тест-сплитинг\n",
        "X_train, X_test, y_train, y_test = train_test_split(variables, rating, test_size=0.2)"
      ],
      "execution_count": 0,
      "outputs": []
    },
    {
      "cell_type": "code",
      "metadata": {
        "id": "Wv6OmaSIT2UR",
        "colab_type": "code",
        "colab": {}
      },
      "source": [
        "sc = sklearn.preprocessing.StandardScaler()\n",
        "X_train = sc.fit_transform(X_train)\n",
        "X_test = sc.transform(X_test)"
      ],
      "execution_count": 0,
      "outputs": []
    },
    {
      "cell_type": "code",
      "metadata": {
        "id": "AevrP4PjT3TZ",
        "colab_type": "code",
        "colab": {
          "base_uri": "https://localhost:8080/",
          "height": 102
        },
        "outputId": "6c268930-853b-45f2-817e-5a371061c022"
      },
      "source": [
        "#6. Линейная регрессия\n",
        "result = model.fit(X_train, y_train)\n",
        "\n",
        "print('intercept:', model.intercept_)\n",
        "print('coef_variables:', model.coef_)"
      ],
      "execution_count": 50,
      "outputs": [
        {
          "output_type": "stream",
          "text": [
            "intercept: 1.845500848896434\n",
            "coef_variables: [ 0.         -0.06334763 -0.08478513 -0.04871727  0.11529698  0.08517349\n",
            "  0.0078396   0.04381998  0.08648942 -0.00656908 -0.09110166  0.00459067\n",
            "  0.07949081  0.02153199 -0.08568001 -0.06308892  0.06309737 -0.05752936\n",
            "  0.01617355 -0.08549796 -0.53795259  1.29525224]\n"
          ],
          "name": "stdout"
        }
      ]
    },
    {
      "cell_type": "code",
      "metadata": {
        "id": "te198gyLT4SC",
        "colab_type": "code",
        "colab": {
          "base_uri": "https://localhost:8080/",
          "height": 34
        },
        "outputId": "069fbbd7-a806-4c69-81a5-b7c5246f22d9"
      },
      "source": [
        "#7. Качество модели\n",
        "y_hat = model.predict(X_test).reshape(-1,1)\n",
        "\n",
        "sklearn.metrics.r2_score(y_test, y_hat)"
      ],
      "execution_count": 51,
      "outputs": [
        {
          "output_type": "execute_result",
          "data": {
            "text/plain": [
              "0.3987615428066025"
            ]
          },
          "metadata": {
            "tags": []
          },
          "execution_count": 51
        }
      ]
    },
    {
      "cell_type": "markdown",
      "metadata": {
        "id": "Fq8Ao1FWT8hu",
        "colab_type": "text"
      },
      "source": [
        ""
      ]
    },
    {
      "cell_type": "code",
      "metadata": {
        "id": "dAS0mfBQT958",
        "colab_type": "code",
        "colab": {}
      },
      "source": [
        "# Вывод: R2, при многоразовых перезапусках, в диапазоне от 0.2 до 0.5. Можно сказать, что это средний показатель качества по прогнозу оценки пользователя."
      ],
      "execution_count": 0,
      "outputs": []
    },
    {
      "cell_type": "code",
      "metadata": {
        "id": "f9YaSyf6UCv3",
        "colab_type": "code",
        "colab": {}
      },
      "source": [
        "!apt-get install openjdk-8-jdk-headless -qq > /dev/null"
      ],
      "execution_count": 0,
      "outputs": []
    },
    {
      "cell_type": "code",
      "metadata": {
        "id": "SBH3H3l7UVYA",
        "colab_type": "code",
        "colab": {}
      },
      "source": [
        "!wget -q www-us.apache.org/dist/spark/spark-2.4.4/spark-2.4.4-bin-hadoop2.7.tgz"
      ],
      "execution_count": 0,
      "outputs": []
    },
    {
      "cell_type": "code",
      "metadata": {
        "id": "zZaRkMsUUXD4",
        "colab_type": "code",
        "colab": {}
      },
      "source": [
        "!tar -xvf spark-2.4.4-bin-hadoop2.7.tgz"
      ],
      "execution_count": 0,
      "outputs": []
    },
    {
      "cell_type": "code",
      "metadata": {
        "id": "S7EVNLFuUYN7",
        "colab_type": "code",
        "colab": {}
      },
      "source": [
        "!pip install -q findspark"
      ],
      "execution_count": 0,
      "outputs": []
    },
    {
      "cell_type": "code",
      "metadata": {
        "id": "z6fb5_GEUb6v",
        "colab_type": "code",
        "colab": {}
      },
      "source": [
        "import os\n",
        "os.environ[\"JAVA_HOME\"] = \"/usr/lib/jvm/java-8-openjdk-amd64\"\n",
        "os.environ[\"SPARK_HOME\"] = \"/content/spark-2.4.4-bin-hadoop2.7\""
      ],
      "execution_count": 0,
      "outputs": []
    },
    {
      "cell_type": "code",
      "metadata": {
        "id": "ciaulVWBUdgJ",
        "colab_type": "code",
        "colab": {}
      },
      "source": [
        "import findspark\n",
        "findspark.init()\n",
        "from pyspark.sql import SparkSession\n",
        "\n",
        "spark = SparkSession.builder.master(\"local[*]\").getOrCreate()"
      ],
      "execution_count": 0,
      "outputs": []
    },
    {
      "cell_type": "code",
      "metadata": {
        "id": "QyqfRyp8UffB",
        "colab_type": "code",
        "colab": {}
      },
      "source": [
        "#8. Загрузка данных в Spark и переименование колонко\n",
        "s_ratings = spark.read.csv('u.data.csv', header=False, inferSchema=True, sep=\"\\t\")\n",
        "s_ratings = s_ratings.withColumnRenamed('_c0', 'user_id')\n",
        "s_ratings = s_ratings.withColumnRenamed('_c1', 'movie_id')\n",
        "s_ratings = s_ratings.withColumnRenamed('_c2', 'rating')\n",
        "s_ratings = s_ratings.withColumnRenamed('_c3', 'timestamp')"
      ],
      "execution_count": 0,
      "outputs": []
    },
    {
      "cell_type": "code",
      "metadata": {
        "id": "D4p0v0odVZd9",
        "colab_type": "code",
        "colab": {}
      },
      "source": [
        "s_movies = spark.read.csv('u.item.csv', header=False, inferSchema=True, sep=\"|\")\n",
        "s_movies=s_movies.withColumnRenamed('_c0','movie_id')\n",
        "s_movies=s_movies.withColumnRenamed('_c1','movie_title')\n",
        "s_movies=s_movies.withColumnRenamed('_c2','release_date')\n",
        "s_movies=s_movies.withColumnRenamed('_c3','video_release_date')\n",
        "s_movies=s_movies.withColumnRenamed('_c4','IMDb_URL')\n",
        "s_movies=s_movies.withColumnRenamed('_c5','unknown')\n",
        "s_movies=s_movies.withColumnRenamed('_c6','Action')\n",
        "s_movies=s_movies.withColumnRenamed('_c7','Adventure')\n",
        "s_movies=s_movies.withColumnRenamed('_c8','Animation')\n",
        "s_movies=s_movies.withColumnRenamed('_c9','Childrens')\n",
        "s_movies=s_movies.withColumnRenamed('_c10','Comedy')\n",
        "s_movies=s_movies.withColumnRenamed('_c11','Crime')\n",
        "s_movies=s_movies.withColumnRenamed('_c12','Documentary')\n",
        "s_movies=s_movies.withColumnRenamed('_c13','Drama')\n",
        "s_movies=s_movies.withColumnRenamed('_c14','Fantasy')\n",
        "s_movies=s_movies.withColumnRenamed('_c15','Film-Noir')\n",
        "s_movies=s_movies.withColumnRenamed('_c16','Horror')\n",
        "s_movies=s_movies.withColumnRenamed('_c17','Musica')\n",
        "s_movies=s_movies.withColumnRenamed('_c18','Mystery')\n",
        "s_movies=s_movies.withColumnRenamed('_c19','Romance')\n",
        "s_movies=s_movies.withColumnRenamed('_c20','Sci-Fi')\n",
        "s_movies=s_movies.withColumnRenamed('_c21','Thriller')\n",
        "s_movies=s_movies.withColumnRenamed('_c22','War')\n",
        "s_movies=s_movies.withColumnRenamed('_c23','Western')"
      ],
      "execution_count": 0,
      "outputs": []
    },
    {
      "cell_type": "code",
      "metadata": {
        "id": "U8vmBLO6UwBO",
        "colab_type": "code",
        "colab": {
          "base_uri": "https://localhost:8080/",
          "height": 459
        },
        "outputId": "4461bdfb-2d70-4d6e-aa0e-d6722065fba8"
      },
      "source": [
        "s_ratings.show()"
      ],
      "execution_count": 157,
      "outputs": [
        {
          "output_type": "stream",
          "text": [
            "+-------+--------+------+---------+\n",
            "|user_id|movie_id|rating|timestamp|\n",
            "+-------+--------+------+---------+\n",
            "|    196|     242|     3|881250949|\n",
            "|    186|     302|     3|891717742|\n",
            "|     22|     377|     1|878887116|\n",
            "|    244|      51|     2|880606923|\n",
            "|    166|     346|     1|886397596|\n",
            "|    298|     474|     4|884182806|\n",
            "|    115|     265|     2|881171488|\n",
            "|    253|     465|     5|891628467|\n",
            "|    305|     451|     3|886324817|\n",
            "|      6|      86|     3|883603013|\n",
            "|     62|     257|     2|879372434|\n",
            "|    286|    1014|     5|879781125|\n",
            "|    200|     222|     5|876042340|\n",
            "|    210|      40|     3|891035994|\n",
            "|    224|      29|     3|888104457|\n",
            "|    303|     785|     3|879485318|\n",
            "|    122|     387|     5|879270459|\n",
            "|    194|     274|     2|879539794|\n",
            "|    291|    1042|     4|874834944|\n",
            "|    234|    1184|     2|892079237|\n",
            "+-------+--------+------+---------+\n",
            "only showing top 20 rows\n",
            "\n"
          ],
          "name": "stdout"
        }
      ]
    },
    {
      "cell_type": "code",
      "metadata": {
        "id": "qNUxYaTOUyoZ",
        "colab_type": "code",
        "colab": {
          "base_uri": "https://localhost:8080/",
          "height": 479
        },
        "outputId": "2e59cc3f-4c34-4538-df28-7c13ce0764c2"
      },
      "source": [
        "s_movies.show()"
      ],
      "execution_count": 158,
      "outputs": [
        {
          "output_type": "stream",
          "text": [
            "+--------+--------------------+------------+------------------+--------------------+-------+------+---------+---------+---------+------+-----+-----------+-----+-------+---------+------+------+-------+-------+------+--------+---+-------+\n",
            "|movie_id|         movie_title|release_date|video_release_date|            IMDb_URL|unknown|Action|Adventure|Animation|Childrens|Comedy|Crime|Documentary|Drama|Fantasy|Film-Noir|Horror|Musica|Mystery|Romance|Sci-Fi|Thriller|War|Western|\n",
            "+--------+--------------------+------------+------------------+--------------------+-------+------+---------+---------+---------+------+-----+-----------+-----+-------+---------+------+------+-------+-------+------+--------+---+-------+\n",
            "|       1|    Toy Story (1995)| 01-Jan-1995|              null|http://us.imdb.co...|      0|     0|        0|        1|        1|     1|    0|          0|    0|      0|        0|     0|     0|      0|      0|     0|       0|  0|      0|\n",
            "|       2|    GoldenEye (1995)| 01-Jan-1995|              null|http://us.imdb.co...|      0|     1|        1|        0|        0|     0|    0|          0|    0|      0|        0|     0|     0|      0|      0|     0|       1|  0|      0|\n",
            "|       3|   Four Rooms (1995)| 01-Jan-1995|              null|http://us.imdb.co...|      0|     0|        0|        0|        0|     0|    0|          0|    0|      0|        0|     0|     0|      0|      0|     0|       1|  0|      0|\n",
            "|       4|   Get Shorty (1995)| 01-Jan-1995|              null|http://us.imdb.co...|      0|     1|        0|        0|        0|     1|    0|          0|    1|      0|        0|     0|     0|      0|      0|     0|       0|  0|      0|\n",
            "|       5|      Copycat (1995)| 01-Jan-1995|              null|http://us.imdb.co...|      0|     0|        0|        0|        0|     0|    1|          0|    1|      0|        0|     0|     0|      0|      0|     0|       1|  0|      0|\n",
            "|       6|Shanghai Triad (Y...| 01-Jan-1995|              null|http://us.imdb.co...|      0|     0|        0|        0|        0|     0|    0|          0|    1|      0|        0|     0|     0|      0|      0|     0|       0|  0|      0|\n",
            "|       7|Twelve Monkeys (1...| 01-Jan-1995|              null|http://us.imdb.co...|      0|     0|        0|        0|        0|     0|    0|          0|    1|      0|        0|     0|     0|      0|      0|     1|       0|  0|      0|\n",
            "|       8|         Babe (1995)| 01-Jan-1995|              null|http://us.imdb.co...|      0|     0|        0|        0|        1|     1|    0|          0|    1|      0|        0|     0|     0|      0|      0|     0|       0|  0|      0|\n",
            "|       9|Dead Man Walking ...| 01-Jan-1995|              null|http://us.imdb.co...|      0|     0|        0|        0|        0|     0|    0|          0|    1|      0|        0|     0|     0|      0|      0|     0|       0|  0|      0|\n",
            "|      10|  Richard III (1995)| 22-Jan-1996|              null|http://us.imdb.co...|      0|     0|        0|        0|        0|     0|    0|          0|    1|      0|        0|     0|     0|      0|      0|     0|       0|  1|      0|\n",
            "|      11|Seven (Se7en) (1995)| 01-Jan-1995|              null|http://us.imdb.co...|      0|     0|        0|        0|        0|     0|    1|          0|    0|      0|        0|     0|     0|      0|      0|     0|       1|  0|      0|\n",
            "|      12|Usual Suspects, T...| 14-Aug-1995|              null|http://us.imdb.co...|      0|     0|        0|        0|        0|     0|    1|          0|    0|      0|        0|     0|     0|      0|      0|     0|       1|  0|      0|\n",
            "|      13|Mighty Aphrodite ...| 30-Oct-1995|              null|http://us.imdb.co...|      0|     0|        0|        0|        0|     1|    0|          0|    0|      0|        0|     0|     0|      0|      0|     0|       0|  0|      0|\n",
            "|      14|  Postino, Il (1994)| 01-Jan-1994|              null|http://us.imdb.co...|      0|     0|        0|        0|        0|     0|    0|          0|    1|      0|        0|     0|     0|      0|      1|     0|       0|  0|      0|\n",
            "|      15|Mr. Holland's Opu...| 29-Jan-1996|              null|http://us.imdb.co...|      0|     0|        0|        0|        0|     0|    0|          0|    1|      0|        0|     0|     0|      0|      0|     0|       0|  0|      0|\n",
            "|      16|French Twist (Gaz...| 01-Jan-1995|              null|http://us.imdb.co...|      0|     0|        0|        0|        0|     1|    0|          0|    0|      0|        0|     0|     0|      0|      1|     0|       0|  0|      0|\n",
            "|      17|From Dusk Till Da...| 05-Feb-1996|              null|http://us.imdb.co...|      0|     1|        0|        0|        0|     1|    1|          0|    0|      0|        0|     1|     0|      0|      0|     0|       1|  0|      0|\n",
            "|      18|White Balloon, Th...| 01-Jan-1995|              null|http://us.imdb.co...|      0|     0|        0|        0|        0|     0|    0|          0|    1|      0|        0|     0|     0|      0|      0|     0|       0|  0|      0|\n",
            "|      19|Antonia's Line (1...| 01-Jan-1995|              null|http://us.imdb.co...|      0|     0|        0|        0|        0|     0|    0|          0|    1|      0|        0|     0|     0|      0|      0|     0|       0|  0|      0|\n",
            "|      20|Angels and Insect...| 01-Jan-1995|              null|http://us.imdb.co...|      0|     0|        0|        0|        0|     0|    0|          0|    1|      0|        0|     0|     0|      0|      1|     0|       0|  0|      0|\n",
            "+--------+--------------------+------------+------------------+--------------------+-------+------+---------+---------+---------+------+-----+-----------+-----+-------+---------+------+------+-------+-------+------+--------+---+-------+\n",
            "only showing top 20 rows\n",
            "\n"
          ],
          "name": "stdout"
        }
      ]
    },
    {
      "cell_type": "code",
      "metadata": {
        "id": "kHTVdioPVhqt",
        "colab_type": "code",
        "colab": {}
      },
      "source": [
        "#9 Средняя оценка для каждого фильма"
      ],
      "execution_count": 0,
      "outputs": []
    },
    {
      "cell_type": "code",
      "metadata": {
        "id": "h4lQlDlnXrHG",
        "colab_type": "code",
        "colab": {}
      },
      "source": [
        "avg_s_ratings = s_ratings.groupBy('movie_id').avg('rating')"
      ],
      "execution_count": 0,
      "outputs": []
    },
    {
      "cell_type": "code",
      "metadata": {
        "id": "KfT5VgdSXrEq",
        "colab_type": "code",
        "colab": {}
      },
      "source": [
        "s_movies = s_movies.join(avg_s_ratings, 'movie_id', how='left')"
      ],
      "execution_count": 0,
      "outputs": []
    },
    {
      "cell_type": "code",
      "metadata": {
        "id": "VmwgGSfaZuC9",
        "colab_type": "code",
        "colab": {
          "base_uri": "https://localhost:8080/",
          "height": 479
        },
        "outputId": "b45f57d4-e6b8-4191-c7f7-a214e0b1017a"
      },
      "source": [
        "s_movies.show()"
      ],
      "execution_count": 162,
      "outputs": [
        {
          "output_type": "stream",
          "text": [
            "+--------+--------------------+------------+------------------+--------------------+-------+------+---------+---------+---------+------+-----+-----------+-----+-------+---------+------+------+-------+-------+------+--------+---+-------+------------------+\n",
            "|movie_id|         movie_title|release_date|video_release_date|            IMDb_URL|unknown|Action|Adventure|Animation|Childrens|Comedy|Crime|Documentary|Drama|Fantasy|Film-Noir|Horror|Musica|Mystery|Romance|Sci-Fi|Thriller|War|Western|       avg(rating)|\n",
            "+--------+--------------------+------------+------------------+--------------------+-------+------+---------+---------+---------+------+-----+-----------+-----+-------+---------+------+------+-------+-------+------+--------+---+-------+------------------+\n",
            "|       1|    Toy Story (1995)| 01-Jan-1995|              null|http://us.imdb.co...|      0|     0|        0|        1|        1|     1|    0|          0|    0|      0|        0|     0|     0|      0|      0|     0|       0|  0|      0|3.8783185840707963|\n",
            "|       2|    GoldenEye (1995)| 01-Jan-1995|              null|http://us.imdb.co...|      0|     1|        1|        0|        0|     0|    0|          0|    0|      0|        0|     0|     0|      0|      0|     0|       1|  0|      0|3.2061068702290076|\n",
            "|       3|   Four Rooms (1995)| 01-Jan-1995|              null|http://us.imdb.co...|      0|     0|        0|        0|        0|     0|    0|          0|    0|      0|        0|     0|     0|      0|      0|     0|       1|  0|      0| 3.033333333333333|\n",
            "|       4|   Get Shorty (1995)| 01-Jan-1995|              null|http://us.imdb.co...|      0|     1|        0|        0|        0|     1|    0|          0|    1|      0|        0|     0|     0|      0|      0|     0|       0|  0|      0| 3.550239234449761|\n",
            "|       5|      Copycat (1995)| 01-Jan-1995|              null|http://us.imdb.co...|      0|     0|        0|        0|        0|     0|    1|          0|    1|      0|        0|     0|     0|      0|      0|     0|       1|  0|      0| 3.302325581395349|\n",
            "|       6|Shanghai Triad (Y...| 01-Jan-1995|              null|http://us.imdb.co...|      0|     0|        0|        0|        0|     0|    0|          0|    1|      0|        0|     0|     0|      0|      0|     0|       0|  0|      0| 3.576923076923077|\n",
            "|       7|Twelve Monkeys (1...| 01-Jan-1995|              null|http://us.imdb.co...|      0|     0|        0|        0|        0|     0|    0|          0|    1|      0|        0|     0|     0|      0|      0|     1|       0|  0|      0| 3.798469387755102|\n",
            "|       8|         Babe (1995)| 01-Jan-1995|              null|http://us.imdb.co...|      0|     0|        0|        0|        1|     1|    0|          0|    1|      0|        0|     0|     0|      0|      0|     0|       0|  0|      0|3.9954337899543377|\n",
            "|       9|Dead Man Walking ...| 01-Jan-1995|              null|http://us.imdb.co...|      0|     0|        0|        0|        0|     0|    0|          0|    1|      0|        0|     0|     0|      0|      0|     0|       0|  0|      0|3.8963210702341136|\n",
            "|      10|  Richard III (1995)| 22-Jan-1996|              null|http://us.imdb.co...|      0|     0|        0|        0|        0|     0|    0|          0|    1|      0|        0|     0|     0|      0|      0|     0|       0|  1|      0| 3.831460674157303|\n",
            "|      11|Seven (Se7en) (1995)| 01-Jan-1995|              null|http://us.imdb.co...|      0|     0|        0|        0|        0|     0|    1|          0|    0|      0|        0|     0|     0|      0|      0|     0|       1|  0|      0| 3.847457627118644|\n",
            "|      12|Usual Suspects, T...| 14-Aug-1995|              null|http://us.imdb.co...|      0|     0|        0|        0|        0|     0|    1|          0|    0|      0|        0|     0|     0|      0|      0|     0|       1|  0|      0| 4.385767790262173|\n",
            "|      13|Mighty Aphrodite ...| 30-Oct-1995|              null|http://us.imdb.co...|      0|     0|        0|        0|        0|     1|    0|          0|    0|      0|        0|     0|     0|      0|      0|     0|       0|  0|      0|3.4184782608695654|\n",
            "|      14|  Postino, Il (1994)| 01-Jan-1994|              null|http://us.imdb.co...|      0|     0|        0|        0|        0|     0|    0|          0|    1|      0|        0|     0|     0|      0|      1|     0|       0|  0|      0|3.9672131147540983|\n",
            "|      15|Mr. Holland's Opu...| 29-Jan-1996|              null|http://us.imdb.co...|      0|     0|        0|        0|        0|     0|    0|          0|    1|      0|        0|     0|     0|      0|      0|     0|       0|  0|      0|3.7781569965870307|\n",
            "|      16|French Twist (Gaz...| 01-Jan-1995|              null|http://us.imdb.co...|      0|     0|        0|        0|        0|     1|    0|          0|    0|      0|        0|     0|     0|      0|      1|     0|       0|  0|      0|3.2051282051282053|\n",
            "|      17|From Dusk Till Da...| 05-Feb-1996|              null|http://us.imdb.co...|      0|     1|        0|        0|        0|     1|    1|          0|    0|      0|        0|     1|     0|      0|      0|     0|       1|  0|      0| 3.119565217391304|\n",
            "|      18|White Balloon, Th...| 01-Jan-1995|              null|http://us.imdb.co...|      0|     0|        0|        0|        0|     0|    0|          0|    1|      0|        0|     0|     0|      0|      0|     0|       0|  0|      0|               2.8|\n",
            "|      19|Antonia's Line (1...| 01-Jan-1995|              null|http://us.imdb.co...|      0|     0|        0|        0|        0|     0|    0|          0|    1|      0|        0|     0|     0|      0|      0|     0|       0|  0|      0|3.9565217391304346|\n",
            "|      20|Angels and Insect...| 01-Jan-1995|              null|http://us.imdb.co...|      0|     0|        0|        0|        0|     0|    0|          0|    1|      0|        0|     0|     0|      0|      1|     0|       0|  0|      0|3.4166666666666665|\n",
            "+--------+--------------------+------------+------------------+--------------------+-------+------+---------+---------+---------+------+-----+-----------+-----+-------+---------+------+------+-------+-------+------+--------+---+-------+------------------+\n",
            "only showing top 20 rows\n",
            "\n"
          ],
          "name": "stdout"
        }
      ]
    },
    {
      "cell_type": "code",
      "metadata": {
        "id": "EtHErYH1Y4GH",
        "colab_type": "code",
        "colab": {}
      },
      "source": [
        "#10. Средняя оценка для каждого жанра"
      ],
      "execution_count": 0,
      "outputs": []
    },
    {
      "cell_type": "code",
      "metadata": {
        "id": "YT9vWJt4ZUPH",
        "colab_type": "code",
        "colab": {}
      },
      "source": [
        "sum_s_ratings = s_ratings.groupBy('movie_id').sum('rating')\n",
        "cnt_s_ratings = s_ratings.groupBy('movie_id').count()"
      ],
      "execution_count": 0,
      "outputs": []
    },
    {
      "cell_type": "code",
      "metadata": {
        "id": "q2YFWozvZy5H",
        "colab_type": "code",
        "colab": {}
      },
      "source": [
        "s_movies = s_movies.join(sum_s_ratings, 'movie_id', how='left')\n",
        "s_movies = s_movies.join(cnt_s_ratings, 'movie_id', how='left')"
      ],
      "execution_count": 0,
      "outputs": []
    },
    {
      "cell_type": "code",
      "metadata": {
        "id": "89yIMFvlai6j",
        "colab_type": "code",
        "colab": {
          "base_uri": "https://localhost:8080/",
          "height": 479
        },
        "outputId": "3999bfe6-a535-490b-97e1-bcb0ac233fff"
      },
      "source": [
        "melt_s_movies = s_movies.drop('movie_id')\n",
        "melt_s_movies = melt_s_movies.drop('movie_title')\n",
        "melt_s_movies = melt_s_movies.drop('release_date')\n",
        "melt_s_movies = melt_s_movies.drop('video_release_date')\n",
        "melt_s_movies = melt_s_movies.drop('IMDb_URL')\n",
        "melt_s_movies = melt_s_movies.drop('avg(rating)')\n",
        "melt_s_movies.show()"
      ],
      "execution_count": 182,
      "outputs": [
        {
          "output_type": "stream",
          "text": [
            "+-------+------+---------+---------+---------+------+-----+-----------+-----+-------+---------+------+------+-------+-------+------+--------+---+-------+-----------+-----+\n",
            "|unknown|Action|Adventure|Animation|Childrens|Comedy|Crime|Documentary|Drama|Fantasy|Film-Noir|Horror|Musica|Mystery|Romance|Sci-Fi|Thriller|War|Western|sum(rating)|count|\n",
            "+-------+------+---------+---------+---------+------+-----+-----------+-----+-------+---------+------+------+-------+-------+------+--------+---+-------+-----------+-----+\n",
            "|      0|     0|        0|        1|        1|     1|    0|          0|    0|      0|        0|     0|     0|      0|      0|     0|       0|  0|      0|       1753|  452|\n",
            "|      0|     1|        1|        0|        0|     0|    0|          0|    0|      0|        0|     0|     0|      0|      0|     0|       1|  0|      0|        420|  131|\n",
            "|      0|     0|        0|        0|        0|     0|    0|          0|    0|      0|        0|     0|     0|      0|      0|     0|       1|  0|      0|        273|   90|\n",
            "|      0|     1|        0|        0|        0|     1|    0|          0|    1|      0|        0|     0|     0|      0|      0|     0|       0|  0|      0|        742|  209|\n",
            "|      0|     0|        0|        0|        0|     0|    1|          0|    1|      0|        0|     0|     0|      0|      0|     0|       1|  0|      0|        284|   86|\n",
            "|      0|     0|        0|        0|        0|     0|    0|          0|    1|      0|        0|     0|     0|      0|      0|     0|       0|  0|      0|         93|   26|\n",
            "|      0|     0|        0|        0|        0|     0|    0|          0|    1|      0|        0|     0|     0|      0|      0|     1|       0|  0|      0|       1489|  392|\n",
            "|      0|     0|        0|        0|        1|     1|    0|          0|    1|      0|        0|     0|     0|      0|      0|     0|       0|  0|      0|        875|  219|\n",
            "|      0|     0|        0|        0|        0|     0|    0|          0|    1|      0|        0|     0|     0|      0|      0|     0|       0|  0|      0|       1165|  299|\n",
            "|      0|     0|        0|        0|        0|     0|    0|          0|    1|      0|        0|     0|     0|      0|      0|     0|       0|  1|      0|        341|   89|\n",
            "|      0|     0|        0|        0|        0|     0|    1|          0|    0|      0|        0|     0|     0|      0|      0|     0|       1|  0|      0|        908|  236|\n",
            "|      0|     0|        0|        0|        0|     0|    1|          0|    0|      0|        0|     0|     0|      0|      0|     0|       1|  0|      0|       1171|  267|\n",
            "|      0|     0|        0|        0|        0|     1|    0|          0|    0|      0|        0|     0|     0|      0|      0|     0|       0|  0|      0|        629|  184|\n",
            "|      0|     0|        0|        0|        0|     0|    0|          0|    1|      0|        0|     0|     0|      0|      1|     0|       0|  0|      0|        726|  183|\n",
            "|      0|     0|        0|        0|        0|     0|    0|          0|    1|      0|        0|     0|     0|      0|      0|     0|       0|  0|      0|       1107|  293|\n",
            "|      0|     0|        0|        0|        0|     1|    0|          0|    0|      0|        0|     0|     0|      0|      1|     0|       0|  0|      0|        125|   39|\n",
            "|      0|     1|        0|        0|        0|     1|    1|          0|    0|      0|        0|     1|     0|      0|      0|     0|       1|  0|      0|        287|   92|\n",
            "|      0|     0|        0|        0|        0|     0|    0|          0|    1|      0|        0|     0|     0|      0|      0|     0|       0|  0|      0|         28|   10|\n",
            "|      0|     0|        0|        0|        0|     0|    0|          0|    1|      0|        0|     0|     0|      0|      0|     0|       0|  0|      0|        273|   69|\n",
            "|      0|     0|        0|        0|        0|     0|    0|          0|    1|      0|        0|     0|     0|      0|      1|     0|       0|  0|      0|        246|   72|\n",
            "+-------+------+---------+---------+---------+------+-----+-----------+-----+-------+---------+------+------+-------+-------+------+--------+---+-------+-----------+-----+\n",
            "only showing top 20 rows\n",
            "\n"
          ],
          "name": "stdout"
        }
      ]
    },
    {
      "cell_type": "code",
      "metadata": {
        "id": "fZIU6a01dZPA",
        "colab_type": "code",
        "colab": {}
      },
      "source": [
        "from pyspark.sql.functions import array, col, explode, lit, struct\n",
        "from pyspark.sql import DataFrame\n",
        "from typing import Iterable "
      ],
      "execution_count": 0,
      "outputs": []
    },
    {
      "cell_type": "code",
      "metadata": {
        "id": "QIrxIfd8fPKg",
        "colab_type": "code",
        "colab": {}
      },
      "source": [
        "def melt(\n",
        "        df: DataFrame, \n",
        "        id_vars: Iterable[str], value_vars: Iterable[str], \n",
        "        var_name: str=\"variable\", value_name: str=\"value\") -> DataFrame:\n",
        "    \"\"\"Convert :class:`DataFrame` from wide to long format.\"\"\"\n",
        "\n",
        "    # Create array<struct<variable: str, value: ...>>\n",
        "    _vars_and_vals = array(*(\n",
        "        struct(lit(c).alias(var_name), col(c).alias(value_name)) \n",
        "        for c in value_vars))\n",
        "\n",
        "    # Add to the DataFrame and explode\n",
        "    _tmp = df.withColumn(\"_vars_and_vals\", explode(_vars_and_vals))\n",
        "\n",
        "    cols = id_vars + [\n",
        "            col(\"_vars_and_vals\")[x].alias(x) for x in [var_name, value_name]]\n",
        "    return _tmp.select(*cols)"
      ],
      "execution_count": 0,
      "outputs": []
    },
    {
      "cell_type": "code",
      "metadata": {
        "id": "KNk4GtYcfREe",
        "colab_type": "code",
        "colab": {}
      },
      "source": [
        "melt_s_movies = melt(melt_s_movies, id_vars=['sum(rating)', 'count'], value_vars=['unknown', 'Action', 'Adventure',\n",
        "                                                         'Animation', 'Childrens', 'Comedy',\n",
        "                                                         'Crime', 'Documentary', 'Drama',\n",
        "                                                         'Fantasy', 'Film-Noir', 'Horror',\n",
        "                                                         'Musica', 'Mystery', 'Romance',\n",
        "                                                         'Sci-Fi', 'Thriller', 'War',\n",
        "                                                         'Western'])"
      ],
      "execution_count": 0,
      "outputs": []
    },
    {
      "cell_type": "code",
      "metadata": {
        "id": "-6f2w8UFh8gl",
        "colab_type": "code",
        "colab": {}
      },
      "source": [
        "melt_s_movies = melt_s_movies.filter(melt_s_movies.value > 0)"
      ],
      "execution_count": 0,
      "outputs": []
    },
    {
      "cell_type": "code",
      "metadata": {
        "id": "3Uxq9D9Siiwh",
        "colab_type": "code",
        "colab": {
          "base_uri": "https://localhost:8080/",
          "height": 459
        },
        "outputId": "3c252709-6325-4c85-9c0e-5b929ff34d8b"
      },
      "source": [
        "melt_s_movies.show()"
      ],
      "execution_count": 189,
      "outputs": [
        {
          "output_type": "stream",
          "text": [
            "+-----------+-----+---------+-----+\n",
            "|sum(rating)|count| variable|value|\n",
            "+-----------+-----+---------+-----+\n",
            "|       1753|  452|Animation|    1|\n",
            "|       1753|  452|Childrens|    1|\n",
            "|       1753|  452|   Comedy|    1|\n",
            "|        420|  131|   Action|    1|\n",
            "|        420|  131|Adventure|    1|\n",
            "|        420|  131| Thriller|    1|\n",
            "|        273|   90| Thriller|    1|\n",
            "|        742|  209|   Action|    1|\n",
            "|        742|  209|   Comedy|    1|\n",
            "|        742|  209|    Drama|    1|\n",
            "|        284|   86|    Crime|    1|\n",
            "|        284|   86|    Drama|    1|\n",
            "|        284|   86| Thriller|    1|\n",
            "|         93|   26|    Drama|    1|\n",
            "|       1489|  392|    Drama|    1|\n",
            "|       1489|  392|   Sci-Fi|    1|\n",
            "|        875|  219|Childrens|    1|\n",
            "|        875|  219|   Comedy|    1|\n",
            "|        875|  219|    Drama|    1|\n",
            "|       1165|  299|    Drama|    1|\n",
            "+-----------+-----+---------+-----+\n",
            "only showing top 20 rows\n",
            "\n"
          ],
          "name": "stdout"
        }
      ]
    },
    {
      "cell_type": "code",
      "metadata": {
        "id": "3wxTY58QivhU",
        "colab_type": "code",
        "colab": {}
      },
      "source": [
        "melt1 = melt_s_movies.groupBy('variable').sum('sum(rating)')"
      ],
      "execution_count": 0,
      "outputs": []
    },
    {
      "cell_type": "code",
      "metadata": {
        "id": "jEP24aXIjK1U",
        "colab_type": "code",
        "colab": {}
      },
      "source": [
        "melt2 = melt_s_movies.groupBy('variable').sum('count')"
      ],
      "execution_count": 0,
      "outputs": []
    },
    {
      "cell_type": "code",
      "metadata": {
        "id": "rIlGklJhjW0M",
        "colab_type": "code",
        "colab": {}
      },
      "source": [
        "ratings_by_genres = melt1.join(melt2, 'variable', how='left')"
      ],
      "execution_count": 0,
      "outputs": []
    },
    {
      "cell_type": "code",
      "metadata": {
        "id": "wtEejY3jjYnU",
        "colab_type": "code",
        "colab": {}
      },
      "source": [
        "ratings_by_genres = ratings_by_genres.withColumn(\"Average rating\", col('sum(sum(rating))') / col('sum(count)'))"
      ],
      "execution_count": 0,
      "outputs": []
    },
    {
      "cell_type": "code",
      "metadata": {
        "id": "VsQ0ld3LkEYZ",
        "colab_type": "code",
        "colab": {
          "base_uri": "https://localhost:8080/",
          "height": 425
        },
        "outputId": "ed949d3d-9709-4f28-ce6e-5a8cceb6d23d"
      },
      "source": [
        "ratings_by_genres.show()"
      ],
      "execution_count": 203,
      "outputs": [
        {
          "output_type": "stream",
          "text": [
            "+-----------+----------------+----------+------------------+\n",
            "|   variable|sum(sum(rating))|sum(count)|    Average rating|\n",
            "+-----------+----------------+----------+------------------+\n",
            "|      Crime|           29258|      8055|3.6322780881440098|\n",
            "|    Romance|           70482|     19461| 3.621704948358255|\n",
            "|   Thriller|           76749|     21872|3.5090069495245064|\n",
            "|  Adventure|           48184|     13753| 3.503526503308369|\n",
            "|    unknown|              32|        10|               3.2|\n",
            "|      Drama|          147108|     39895|3.6873793708484772|\n",
            "|        War|           35861|      9398| 3.815811874866993|\n",
            "|Documentary|            2784|       758|3.6728232189973613|\n",
            "|    Fantasy|            4347|      1352|3.2152366863905324|\n",
            "|     Musica|           17445|      4954| 3.521396851029471|\n",
            "|    Mystery|           19082|      5245|  3.63813155386082|\n",
            "|  Animation|           12894|      3605|3.5766990291262135|\n",
            "|  Film-Noir|            6796|      1733|3.9215233698788228|\n",
            "|     Horror|           17495|      5317|3.2903893172841827|\n",
            "|    Western|            6699|      1854|3.6132686084142396|\n",
            "|     Comedy|          101252|     29832|3.3940734781442745|\n",
            "|     Action|           89056|     25589| 3.480245417953027|\n",
            "|  Childrens|           24083|      7182|3.3532442216652742|\n",
            "|     Sci-Fi|           45328|     12730|3.5607227022780834|\n",
            "+-----------+----------------+----------+------------------+\n",
            "\n"
          ],
          "name": "stdout"
        }
      ]
    },
    {
      "cell_type": "code",
      "metadata": {
        "id": "DwKyW_FqkF3F",
        "colab_type": "code",
        "colab": {}
      },
      "source": [
        "#11. В спарке получить 2 датафрейма с 5-ю самыми популярными и самыми непопулярными фильмами\n",
        "#(по количеству оценок, либо по самой оценке - на Ваш выбор)"
      ],
      "execution_count": 0,
      "outputs": []
    },
    {
      "cell_type": "code",
      "metadata": {
        "id": "ecBXUF2Xkzvs",
        "colab_type": "code",
        "colab": {}
      },
      "source": [
        "top_5 = s_movies\n",
        "bottom_5 = s_movies"
      ],
      "execution_count": 0,
      "outputs": []
    },
    {
      "cell_type": "code",
      "metadata": {
        "id": "BKW09lHRlLxq",
        "colab_type": "code",
        "colab": {
          "base_uri": "https://localhost:8080/",
          "height": 479
        },
        "outputId": "69e1268d-1e1e-44c9-d48d-3447c616fda2"
      },
      "source": [
        "top_5.show()"
      ],
      "execution_count": 225,
      "outputs": [
        {
          "output_type": "stream",
          "text": [
            "+--------+--------------------+------------+------------------+--------------------+-------+------+---------+---------+---------+------+-----+-----------+-----+-------+---------+------+------+-------+-------+------+--------+---+-------+------------------+-----------+-----+\n",
            "|movie_id|         movie_title|release_date|video_release_date|            IMDb_URL|unknown|Action|Adventure|Animation|Childrens|Comedy|Crime|Documentary|Drama|Fantasy|Film-Noir|Horror|Musica|Mystery|Romance|Sci-Fi|Thriller|War|Western|       avg(rating)|sum(rating)|count|\n",
            "+--------+--------------------+------------+------------------+--------------------+-------+------+---------+---------+---------+------+-----+-----------+-----+-------+---------+------+------+-------+-------+------+--------+---+-------+------------------+-----------+-----+\n",
            "|       1|    Toy Story (1995)| 01-Jan-1995|              null|http://us.imdb.co...|      0|     0|        0|        1|        1|     1|    0|          0|    0|      0|        0|     0|     0|      0|      0|     0|       0|  0|      0|3.8783185840707963|       1753|  452|\n",
            "|       2|    GoldenEye (1995)| 01-Jan-1995|              null|http://us.imdb.co...|      0|     1|        1|        0|        0|     0|    0|          0|    0|      0|        0|     0|     0|      0|      0|     0|       1|  0|      0|3.2061068702290076|        420|  131|\n",
            "|       3|   Four Rooms (1995)| 01-Jan-1995|              null|http://us.imdb.co...|      0|     0|        0|        0|        0|     0|    0|          0|    0|      0|        0|     0|     0|      0|      0|     0|       1|  0|      0| 3.033333333333333|        273|   90|\n",
            "|       4|   Get Shorty (1995)| 01-Jan-1995|              null|http://us.imdb.co...|      0|     1|        0|        0|        0|     1|    0|          0|    1|      0|        0|     0|     0|      0|      0|     0|       0|  0|      0| 3.550239234449761|        742|  209|\n",
            "|       5|      Copycat (1995)| 01-Jan-1995|              null|http://us.imdb.co...|      0|     0|        0|        0|        0|     0|    1|          0|    1|      0|        0|     0|     0|      0|      0|     0|       1|  0|      0| 3.302325581395349|        284|   86|\n",
            "|       6|Shanghai Triad (Y...| 01-Jan-1995|              null|http://us.imdb.co...|      0|     0|        0|        0|        0|     0|    0|          0|    1|      0|        0|     0|     0|      0|      0|     0|       0|  0|      0| 3.576923076923077|         93|   26|\n",
            "|       7|Twelve Monkeys (1...| 01-Jan-1995|              null|http://us.imdb.co...|      0|     0|        0|        0|        0|     0|    0|          0|    1|      0|        0|     0|     0|      0|      0|     1|       0|  0|      0| 3.798469387755102|       1489|  392|\n",
            "|       8|         Babe (1995)| 01-Jan-1995|              null|http://us.imdb.co...|      0|     0|        0|        0|        1|     1|    0|          0|    1|      0|        0|     0|     0|      0|      0|     0|       0|  0|      0|3.9954337899543377|        875|  219|\n",
            "|       9|Dead Man Walking ...| 01-Jan-1995|              null|http://us.imdb.co...|      0|     0|        0|        0|        0|     0|    0|          0|    1|      0|        0|     0|     0|      0|      0|     0|       0|  0|      0|3.8963210702341136|       1165|  299|\n",
            "|      10|  Richard III (1995)| 22-Jan-1996|              null|http://us.imdb.co...|      0|     0|        0|        0|        0|     0|    0|          0|    1|      0|        0|     0|     0|      0|      0|     0|       0|  1|      0| 3.831460674157303|        341|   89|\n",
            "|      11|Seven (Se7en) (1995)| 01-Jan-1995|              null|http://us.imdb.co...|      0|     0|        0|        0|        0|     0|    1|          0|    0|      0|        0|     0|     0|      0|      0|     0|       1|  0|      0| 3.847457627118644|        908|  236|\n",
            "|      12|Usual Suspects, T...| 14-Aug-1995|              null|http://us.imdb.co...|      0|     0|        0|        0|        0|     0|    1|          0|    0|      0|        0|     0|     0|      0|      0|     0|       1|  0|      0| 4.385767790262173|       1171|  267|\n",
            "|      13|Mighty Aphrodite ...| 30-Oct-1995|              null|http://us.imdb.co...|      0|     0|        0|        0|        0|     1|    0|          0|    0|      0|        0|     0|     0|      0|      0|     0|       0|  0|      0|3.4184782608695654|        629|  184|\n",
            "|      14|  Postino, Il (1994)| 01-Jan-1994|              null|http://us.imdb.co...|      0|     0|        0|        0|        0|     0|    0|          0|    1|      0|        0|     0|     0|      0|      1|     0|       0|  0|      0|3.9672131147540983|        726|  183|\n",
            "|      15|Mr. Holland's Opu...| 29-Jan-1996|              null|http://us.imdb.co...|      0|     0|        0|        0|        0|     0|    0|          0|    1|      0|        0|     0|     0|      0|      0|     0|       0|  0|      0|3.7781569965870307|       1107|  293|\n",
            "|      16|French Twist (Gaz...| 01-Jan-1995|              null|http://us.imdb.co...|      0|     0|        0|        0|        0|     1|    0|          0|    0|      0|        0|     0|     0|      0|      1|     0|       0|  0|      0|3.2051282051282053|        125|   39|\n",
            "|      17|From Dusk Till Da...| 05-Feb-1996|              null|http://us.imdb.co...|      0|     1|        0|        0|        0|     1|    1|          0|    0|      0|        0|     1|     0|      0|      0|     0|       1|  0|      0| 3.119565217391304|        287|   92|\n",
            "|      18|White Balloon, Th...| 01-Jan-1995|              null|http://us.imdb.co...|      0|     0|        0|        0|        0|     0|    0|          0|    1|      0|        0|     0|     0|      0|      0|     0|       0|  0|      0|               2.8|         28|   10|\n",
            "|      19|Antonia's Line (1...| 01-Jan-1995|              null|http://us.imdb.co...|      0|     0|        0|        0|        0|     0|    0|          0|    1|      0|        0|     0|     0|      0|      0|     0|       0|  0|      0|3.9565217391304346|        273|   69|\n",
            "|      20|Angels and Insect...| 01-Jan-1995|              null|http://us.imdb.co...|      0|     0|        0|        0|        0|     0|    0|          0|    1|      0|        0|     0|     0|      0|      1|     0|       0|  0|      0|3.4166666666666665|        246|   72|\n",
            "+--------+--------------------+------------+------------------+--------------------+-------+------+---------+---------+---------+------+-----+-----------+-----+-------+---------+------+------+-------+-------+------+--------+---+-------+------------------+-----------+-----+\n",
            "only showing top 20 rows\n",
            "\n"
          ],
          "name": "stdout"
        }
      ]
    },
    {
      "cell_type": "code",
      "metadata": {
        "id": "paRosrV5k0E-",
        "colab_type": "code",
        "colab": {
          "base_uri": "https://localhost:8080/",
          "height": 207
        },
        "outputId": "b8ee36ba-520c-4cb5-822a-0a3124234dcc"
      },
      "source": [
        "top_5 = top_5.sort('avg(rating)', ascending=False)\n",
        "top_5 = top_5.limit(5)\n",
        "top_5.show()"
      ],
      "execution_count": 241,
      "outputs": [
        {
          "output_type": "stream",
          "text": [
            "+--------+--------------------+------------+------------------+--------------------+-------+------+---------+---------+---------+------+-----+-----------+-----+-------+---------+------+------+-------+-------+------+--------+---+-------+-----------+-----------+-----+\n",
            "|movie_id|         movie_title|release_date|video_release_date|            IMDb_URL|unknown|Action|Adventure|Animation|Childrens|Comedy|Crime|Documentary|Drama|Fantasy|Film-Noir|Horror|Musica|Mystery|Romance|Sci-Fi|Thriller|War|Western|avg(rating)|sum(rating)|count|\n",
            "+--------+--------------------+------------+------------------+--------------------+-------+------+---------+---------+---------+------+-----+-----------+-----+-------+---------+------+------+-------+-------+------+--------+---+-------+-----------+-----------+-----+\n",
            "|     814|Great Day in Harl...| 01-Jan-1994|              null|http://us.imdb.co...|      0|     0|        0|        0|        0|     0|    0|          1|    0|      0|        0|     0|     0|      0|      0|     0|       0|  0|      0|        5.0|          5|    1|\n",
            "|    1122|They Made Me a Cr...| 01-Jan-1939|              null|http://us.imdb.co...|      0|     0|        0|        0|        0|     0|    1|          0|    1|      0|        0|     0|     0|      0|      0|     0|       0|  0|      0|        5.0|          5|    1|\n",
            "|    1189|  Prefontaine (1997)| 24-Jan-1997|              null|http://us.imdb.co...|      0|     0|        0|        0|        0|     0|    0|          0|    1|      0|        0|     0|     0|      0|      0|     0|       0|  0|      0|        5.0|         15|    3|\n",
            "|    1201|Marlene Dietrich:...| 02-Apr-1996|              null|http://us.imdb.co...|      0|     0|        0|        0|        0|     0|    0|          1|    0|      0|        0|     0|     0|      0|      0|     0|       0|  0|      0|        5.0|          5|    1|\n",
            "|    1293|     Star Kid (1997)| 16-Jan-1998|              null|http://us.imdb.co...|      0|     0|        1|        0|        1|     0|    0|          0|    0|      1|        0|     0|     0|      0|      0|     1|       0|  0|      0|        5.0|         15|    3|\n",
            "+--------+--------------------+------------+------------------+--------------------+-------+------+---------+---------+---------+------+-----+-----------+-----+-------+---------+------+------+-------+-------+------+--------+---+-------+-----------+-----------+-----+\n",
            "\n"
          ],
          "name": "stdout"
        }
      ]
    },
    {
      "cell_type": "code",
      "metadata": {
        "id": "eagz3QJalPPe",
        "colab_type": "code",
        "colab": {
          "base_uri": "https://localhost:8080/",
          "height": 207
        },
        "outputId": "7fa57195-bec6-45ba-8694-0f7062de1da4"
      },
      "source": [
        "bottom_5 = bottom_5.sort('avg(rating)', ascending=True)\n",
        "bottom_5 = bottom_5.limit(5)\n",
        "bottom_5.show()"
      ],
      "execution_count": 242,
      "outputs": [
        {
          "output_type": "stream",
          "text": [
            "+--------+--------------------+------------+------------------+--------------------+-------+------+---------+---------+---------+------+-----+-----------+-----+-------+---------+------+------+-------+-------+------+--------+---+-------+-----------+-----------+-----+\n",
            "|movie_id|         movie_title|release_date|video_release_date|            IMDb_URL|unknown|Action|Adventure|Animation|Childrens|Comedy|Crime|Documentary|Drama|Fantasy|Film-Noir|Horror|Musica|Mystery|Romance|Sci-Fi|Thriller|War|Western|avg(rating)|sum(rating)|count|\n",
            "+--------+--------------------+------------+------------------+--------------------+-------+------+---------+---------+---------+------+-----+-----------+-----+-------+---------+------+------+-------+-------+------+--------+---+-------+-----------+-----------+-----+\n",
            "|     599|Police Story 4: P...| 16-Aug-1996|              null|http://us.imdb.co...|      0|     1|        0|        0|        0|     0|    0|          0|    0|      0|        0|     0|     0|      0|      0|     0|       0|  0|      0|        1.0|          1|    1|\n",
            "|     858|Amityville: Dollh...| 01-Jan-1996|              null|http://us.imdb.co...|      0|     0|        0|        0|        0|     0|    0|          0|    0|      0|        0|     1|     0|      0|      0|     0|       0|  0|      0|        1.0|          3|    3|\n",
            "|     784|Beyond Bedlam (1993)| 01-Jan-1993|              null|http://us.imdb.co...|      0|     0|        0|        0|        0|     0|    0|          0|    1|      0|        0|     1|     0|      0|      0|     0|       0|  0|      0|        1.0|          2|    2|\n",
            "|     314|3 Ninjas: High No...| 01-Jan-1997|              null|http://us.imdb.co...|      0|     1|        0|        0|        1|     0|    0|          0|    0|      0|        0|     0|     0|      0|      0|     0|       0|  0|      0|        1.0|          5|    5|\n",
            "|     830|     Power 98 (1995)| 17-May-1996|              null|http://us.imdb.co...|      0|     1|        0|        0|        0|     0|    0|          0|    0|      0|        0|     0|     0|      1|      0|     0|       1|  0|      0|        1.0|          1|    1|\n",
            "+--------+--------------------+------------+------------------+--------------------+-------+------+---------+---------+---------+------+-----+-----------+-----+-------+---------+------+------+-------+-------+------+--------+---+-------+-----------+-----------+-----+\n",
            "\n"
          ],
          "name": "stdout"
        }
      ]
    },
    {
      "cell_type": "code",
      "metadata": {
        "id": "6PvuGk6inlNm",
        "colab_type": "code",
        "colab": {}
      },
      "source": [
        ""
      ],
      "execution_count": 0,
      "outputs": []
    },
    {
      "cell_type": "code",
      "metadata": {
        "id": "XQlu48f7njtH",
        "colab_type": "code",
        "colab": {}
      },
      "source": [
        ""
      ],
      "execution_count": 0,
      "outputs": []
    }
  ]
}
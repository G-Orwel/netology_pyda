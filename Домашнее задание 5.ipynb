{
 "cells": [
  {
   "cell_type": "markdown",
   "metadata": {},
   "source": [
    "# Задание 1\n",
    "Создайте numpy array с элементами от числа N до 0 (например, для N = 10 это будет array([9, 8, 7, 6, 5, 4, 3, 2, 1, 0]))."
   ]
  },
  {
   "cell_type": "code",
   "execution_count": 1,
   "metadata": {},
   "outputs": [
    {
     "name": "stdout",
     "output_type": "stream",
     "text": [
      "Введите количество элементов:10\n"
     ]
    },
    {
     "data": {
      "text/plain": [
       "array([9, 8, 7, 6, 5, 4, 3, 2, 1, 0])"
      ]
     },
     "execution_count": 1,
     "metadata": {},
     "output_type": "execute_result"
    }
   ],
   "source": [
    "import numpy as np\n",
    "x = input('Введите количество элементов:')\n",
    "np.arange(int(x)-1,-1, -1)"
   ]
  },
  {
   "cell_type": "markdown",
   "metadata": {},
   "source": [
    "# Задание 2\n",
    "Создайте диагональную матрицу с элементами от N до 0. Посчитайте сумму ее значений на диагонали."
   ]
  },
  {
   "cell_type": "code",
   "execution_count": 4,
   "metadata": {},
   "outputs": [
    {
     "name": "stdout",
     "output_type": "stream",
     "text": [
      "Введите количество элементов для диагонали матрицы:10\n",
      "Сумма элементов диагонали матрицы равна: 45\n"
     ]
    }
   ],
   "source": [
    "x = input('Введите количество элементов для диагонали матрицы:')\n",
    "\n",
    "total_sum = []\n",
    "my_matrix = np.diag(np.arange(int(x)-1,-1, -1), k=0)\n",
    "\n",
    "for i in range(len(my_matrix)):\n",
    "    total_sum.append(my_matrix[i,i])\n",
    "\n",
    "print(f'Сумма элементов диагонали матрицы равна: {sum(total_sum)}')"
   ]
  },
  {
   "cell_type": "markdown",
   "metadata": {},
   "source": [
    "# Задание 3"
   ]
  },
  {
   "cell_type": "markdown",
   "metadata": {},
   "source": [
    "Решите систему уравнений:\n",
    "\n",
    "\\begin{equation*}\n",
    "\\LARGE\n",
    "4x + 2y + z = 4 \\\\\n",
    "\\LARGE\n",
    "x + 3y = 12 \\\\\n",
    "\\LARGE\n",
    "5y + 4z = -3 \\\\\n",
    "\\end{equation*}"
   ]
  },
  {
   "cell_type": "code",
   "execution_count": 27,
   "metadata": {},
   "outputs": [],
   "source": [
    "from numpy import linalg"
   ]
  },
  {
   "cell_type": "code",
   "execution_count": 28,
   "metadata": {},
   "outputs": [],
   "source": [
    "coef = np.array([[ 4, 2, 1], [1, 3, 0], [0, 5, 4] ])\n",
    "result = np.array([4, 12, -3])"
   ]
  },
  {
   "cell_type": "code",
   "execution_count": 39,
   "metadata": {},
   "outputs": [
    {
     "name": "stdout",
     "output_type": "stream",
     "text": [
      "[ 0.46666667  3.84444444 -5.55555556]\n"
     ]
    }
   ],
   "source": [
    "check = linalg.solve(coef, result)\n",
    "print(check)"
   ]
  },
  {
   "cell_type": "code",
   "execution_count": 55,
   "metadata": {},
   "outputs": [
    {
     "name": "stdout",
     "output_type": "stream",
     "text": [
      "True\n",
      "True\n",
      "True\n"
     ]
    }
   ],
   "source": [
    "#Проверка корректности решения\n",
    "x = check[0]\n",
    "y = check[1]\n",
    "z = check[2]\n",
    "\n",
    "print(round(4*x+2*y+z) == 4)\n",
    "print(round(x+3*y) == 12)\n",
    "print(round(5*y+4*z) == -3)"
   ]
  }
 ],
 "metadata": {
  "kernelspec": {
   "display_name": "Python 3",
   "language": "python",
   "name": "python3"
  },
  "language_info": {
   "codemirror_mode": {
    "name": "ipython",
    "version": 3
   },
   "file_extension": ".py",
   "mimetype": "text/x-python",
   "name": "python",
   "nbconvert_exporter": "python",
   "pygments_lexer": "ipython3",
   "version": "3.6.4"
  }
 },
 "nbformat": 4,
 "nbformat_minor": 2
}

{
 "cells": [
  {
   "cell_type": "markdown",
   "metadata": {},
   "source": [
    "# Домашнее задание по Python №1"
   ]
  },
  {
   "cell_type": "markdown",
   "metadata": {},
   "source": [
    "### Задание №1\n",
    "\n",
    "Даны 2 строки long_phrase и short_phrase. Напишите код, который проверяет действительно ли длинная фраза long_phrase длиннее короткой short_phrase. И выводит True или False в зависимости от результата сравнения"
   ]
  },
  {
   "cell_type": "code",
   "execution_count": 1,
   "metadata": {},
   "outputs": [],
   "source": [
    "long_phrase = 'Насколько проще было бы писать программы, если бы не заказчики'\n",
    "short_phrase = '640Кб должно хватить для любых задач. Билл Гейтс (по легенде)'"
   ]
  },
  {
   "cell_type": "code",
   "execution_count": 2,
   "metadata": {},
   "outputs": [
    {
     "data": {
      "text/plain": [
       "True"
      ]
     },
     "execution_count": 2,
     "metadata": {},
     "output_type": "execute_result"
    }
   ],
   "source": [
    "len(long_phrase)>len(short_phrase)"
   ]
  },
  {
   "cell_type": "markdown",
   "metadata": {},
   "source": [
    "### Задание №2\n",
    "\n",
    "Дано значение объема файла в байтах. Напишите перевод этого значения в мегабайты в формате:\n",
    "‘Объем файла равен 213.68Mb’"
   ]
  },
  {
   "cell_type": "code",
   "execution_count": 5,
   "metadata": {},
   "outputs": [
    {
     "name": "stdout",
     "output_type": "stream",
     "text": [
      "Введите значение в байтах:65498832\n",
      "Объем файла равен: 62.46 Mb\n"
     ]
    }
   ],
   "source": [
    "My_data=input('Введите значение в байтах:')\n",
    "My_result=int(My_data)/1024/1024\n",
    "print('Объем файла равен:', round(My_result,2),'Mb')"
   ]
  },
  {
   "cell_type": "markdown",
   "metadata": {},
   "source": [
    "### Задание №3\n",
    "\n",
    "Разработать приложение для определения знака зодиака по дате рождения.\n",
    "Пример:\n",
    "\n",
    "Введите месяц: март\n",
    "Введите число: 6\n",
    "\n",
    "Вывод:\n",
    "Рыбы"
   ]
  },
  {
   "cell_type": "code",
   "execution_count": 119,
   "metadata": {},
   "outputs": [
    {
     "name": "stdout",
     "output_type": "stream",
     "text": [
      "Введите месяц:май\n",
      "Введите число:11\n"
     ]
    }
   ],
   "source": [
    "My_mounth=input('Введите месяц:')\n",
    "My_number=input('Введите число:')"
   ]
  },
  {
   "cell_type": "code",
   "execution_count": 120,
   "metadata": {},
   "outputs": [],
   "source": [
    "try:\n",
    "    if int(My_mounth)>0 and int(My_mounth)<=12: Month=My_mounth\n",
    "except:\n",
    "    dict_mounths={\n",
    "        'январь':1,\n",
    "        'февраль':2,\n",
    "        'март':3,\n",
    "        'апрель':4,\n",
    "        'май':5,\n",
    "        'июнь':6,\n",
    "        'июль':7,\n",
    "        'август':8,\n",
    "        'сентябрь':9,\n",
    "        'октябрь':10,\n",
    "        'ноябрь':11,\n",
    "        'декабрь':12\n",
    "    }\n",
    "    Month=dict_mounths[My_mounth]"
   ]
  },
  {
   "cell_type": "code",
   "execution_count": 121,
   "metadata": {},
   "outputs": [],
   "source": [
    "import datetime\n",
    "date=datetime.date(1900,int(Month),int(My_number))"
   ]
  },
  {
   "cell_type": "code",
   "execution_count": 123,
   "metadata": {},
   "outputs": [
    {
     "name": "stdout",
     "output_type": "stream",
     "text": [
      "Телец\n",
      "Программа завершена. Не верьте в знаки зодиака, верьте в науку!\n"
     ]
    }
   ],
   "source": [
    "if date>=datetime.date(1900,1,1) and date<=datetime.date(1900,1,20):\n",
    "    print('Козерог')\n",
    "elif date>=datetime.date(1900,1,21) and date<=datetime.date(1900,2,19):\n",
    "    print('Водолей')\n",
    "elif date>=datetime.date(1900,2,20) and date<=datetime.date(1900,3,20):\n",
    "    print('Рыбы')\n",
    "elif date>=datetime.date(1900,3,21) and date<=datetime.date(1900,4,20):\n",
    "    print('Овен')\n",
    "elif date>=datetime.date(1900,4,21) and date<=datetime.date(1900,5,21):\n",
    "    print('Телец')\n",
    "elif date>=datetime.date(1900,5,22) and date<=datetime.date(1900,6,21):\n",
    "    print('Близнецы')\n",
    "elif date>=datetime.date(1900,6,22) and date<=datetime.date(1900,7,22):\n",
    "    print('Рак')    \n",
    "elif date>=datetime.date(1900,7,23) and date<=datetime.date(1900,8,21):\n",
    "    print('Лев')  \n",
    "elif date>=datetime.date(1900,8,22) and date<=datetime.date(1900,9,23):\n",
    "    print('Дева')\n",
    "elif date>=datetime.date(1900,9,24) and date<=datetime.date(1900,10,23):\n",
    "    print('Весы')\n",
    "elif date>=datetime.date(1900,10,24) and date<=datetime.date(1900,11,22):\n",
    "    print('Скорпион')\n",
    "elif date>=datetime.date(1900,11,23) and date<=datetime.date(1900,12,22):\n",
    "    print('Стрелец')    \n",
    "elif date>=datetime.date(1900,12,23) and date<=datetime.date(1900,12,31):\n",
    "    print('Козерог')\n",
    "print('Программа завершена. Не верьте в знаки зодиака, верьте в науку!')"
   ]
  },
  {
   "cell_type": "markdown",
   "metadata": {},
   "source": [
    "### Задание №4\n",
    "\n",
    "Нужно разработать приложение для финансового планирования.\n",
    "Приложение учитывает сколько уходит на ипотеку, “на жизнь” и сколько нужно отложить на пенсию.\n",
    "Пользователь вводит заработанную плату в месяц.\n",
    "Сколько процентов от зп уходит на ипотеку.\n",
    "Сколько процентов от зп уходит “на жизнь”.\n",
    "Сколько раз приходит премия в год.\n",
    "Остальная часть заработанной платы откладывается на пенсию.\n",
    "Также пользователю приходит премия в размере зарплаты, от которой половина уходит на отпуск, а вторая половина откладывается.\n",
    "Программа должна учитывать сколько премий было в год.\n",
    "Нужно вывести сколько денег тратит пользователь на ипотеку и сколько он накопит за год.\n",
    "Пример:\n",
    "\n",
    "Введите заработанную плату в месяц: 100000\n",
    "Введите сколько процентов уходит на ипотеку: 30\n",
    "Введите сколько процентов уходит на жизнь: 50\n",
    "Введите количество премий за год: 2\n",
    "\n",
    "Вывод:\n",
    "На ипотеку было потрачено: 360000 рублей\n",
    "Было накоплено: 340000 рублей"
   ]
  },
  {
   "cell_type": "code",
   "execution_count": 31,
   "metadata": {},
   "outputs": [
    {
     "name": "stdout",
     "output_type": "stream",
     "text": [
      "Введите заработанную плату в месяц:100000\n",
      "Введите сколько процентов уходит на ипотеку:30\n",
      "Введите сколько процентов уходит на жизнь:50\n",
      "Введите количество премий за год:2\n",
      "Введите горизонт планирования (в мес.):12\n"
     ]
    }
   ],
   "source": [
    "My_wage=input('Введите заработанную плату в месяц:'); My_wage=int(My_wage)\n",
    "My_mortgage=input('Введите сколько процентов уходит на ипотеку:'); My_mortgage=int(My_mortgage)/100\n",
    "My_life=input('Введите сколько процентов уходит на жизнь:'); My_life=int(My_life)/100\n",
    "My_award=input('Введите количество премий за год:'); My_award=int(My_award)\n",
    "My_period=input('Введите горизонт планирования (в мес.):'); My_period=int(My_period) #показалось логичным дать \n",
    "                                                                                     #такой пользовательский выбор\n",
    "if My_mortgage+My_life>1:\n",
    "    print('Ошибочно введены проценты! Сумма процентов больше 100!')"
   ]
  },
  {
   "cell_type": "code",
   "execution_count": 40,
   "metadata": {},
   "outputs": [],
   "source": [
    "#Ипотека\n",
    "Mortage=My_wage*My_mortgage\n",
    "Mortage=Mortage*My_period\n",
    "#Жизнь\n",
    "Life=My_wage*My_life\n",
    "Life=Life*My_period\n",
    "#Премия\n",
    "My_award=My_award*(My_period/12) #учитываем кол-во премий в пользовательский период\n",
    "Award=My_award*My_wage\n",
    "Award=Award/2\n",
    "#Накопления\n",
    "Pension=(My_wage*My_period)-Mortage-Life\n",
    "Pension=(Pension)+Award"
   ]
  },
  {
   "cell_type": "code",
   "execution_count": 41,
   "metadata": {},
   "outputs": [
    {
     "name": "stdout",
     "output_type": "stream",
     "text": [
      "На ипотеку было потрачено: 360000.0\n",
      "Было накоплено: 340000.0\n"
     ]
    }
   ],
   "source": [
    "print('На ипотеку было потрачено:',Mortage)\n",
    "print('Было накоплено:',Pension)"
   ]
  }
 ],
 "metadata": {
  "kernelspec": {
   "display_name": "Python 3",
   "language": "python",
   "name": "python3"
  },
  "language_info": {
   "codemirror_mode": {
    "name": "ipython",
    "version": 3
   },
   "file_extension": ".py",
   "mimetype": "text/x-python",
   "name": "python",
   "nbconvert_exporter": "python",
   "pygments_lexer": "ipython3",
   "version": "3.6.4"
  }
 },
 "nbformat": 4,
 "nbformat_minor": 2
}

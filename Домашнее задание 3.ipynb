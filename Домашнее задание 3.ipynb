{
 "cells": [
  {
   "cell_type": "markdown",
   "metadata": {},
   "source": [
    "## Задание 1"
   ]
  },
  {
   "cell_type": "markdown",
   "metadata": {},
   "source": [
    "Дан список вида:"
   ]
  },
  {
   "cell_type": "code",
   "execution_count": 30,
   "metadata": {},
   "outputs": [],
   "source": [
    "data = [\n",
    "    [13, 25, 23, 34],\n",
    "    [45, 32, 44, 47],\n",
    "    [12, 33, 23, 95],\n",
    "    [13, 53, 34, 35]\n",
    "]"
   ]
  },
  {
   "cell_type": "markdown",
   "metadata": {},
   "source": [
    "Напишите функцию, которая возвращает сумму элементов на диагонали. Т. е. 13+32+23+35."
   ]
  },
  {
   "cell_type": "code",
   "execution_count": 34,
   "metadata": {},
   "outputs": [],
   "source": [
    "#Первый вариант - короткий и простой\n",
    "def calculate(data):\n",
    "    result = []\n",
    "    len_data = len(data)\n",
    "    rng = range(len_data)\n",
    "    for line in rng:\n",
    "        result.append(data[line][line])\n",
    "    return sum(result)"
   ]
  },
  {
   "cell_type": "code",
   "execution_count": 35,
   "metadata": {},
   "outputs": [
    {
     "data": {
      "text/plain": [
       "103"
      ]
     },
     "execution_count": 35,
     "metadata": {},
     "output_type": "execute_result"
    }
   ],
   "source": [
    "calculate(data)"
   ]
  },
  {
   "cell_type": "code",
   "execution_count": 36,
   "metadata": {},
   "outputs": [],
   "source": [
    "#Второй вариант - основательный :)\n",
    "def calculate(matrix, direction=1):\n",
    "    \"\"\"Функция расчёта суммы диагонали матрицы.\n",
    "    Пользовательский выбор диагонали:\n",
    "    1 - слева направо\n",
    "    -1 - справа налево\n",
    "    \"\"\"\n",
    "    list_for_sum = []\n",
    "    \n",
    "    #валидация пользовательских параметров\n",
    "    valid = [1, -1]\n",
    "    if direction not in valid:\n",
    "        raise ValueError(f\"Ошибка: направление диагонали можеты быть только {valid}\" )\n",
    "\n",
    "    #расчёт суммы диагонали слева направо\n",
    "    if direction == 1:\n",
    "        count = 0\n",
    "        for line in matrix:\n",
    "            for each_number in enumerate(line):\n",
    "                if each_number[0] == count:\n",
    "                    list_for_sum.append(each_number[1])\n",
    "            count = count + 1\n",
    "            \n",
    "    #расчёт суммы диагонали справа налево\n",
    "    if direction == -1:\n",
    "        count = max(enumerate(matrix[0]))[0]\n",
    "        for line in matrix:\n",
    "            for each_number in enumerate(line):\n",
    "                if each_number[0] == count:\n",
    "                    list_for_sum.append(each_number[1])\n",
    "            count = count - 1\n",
    "            \n",
    "    #вывод результата        \n",
    "    return sum(list_for_sum)"
   ]
  },
  {
   "cell_type": "code",
   "execution_count": 37,
   "metadata": {},
   "outputs": [
    {
     "name": "stdout",
     "output_type": "stream",
     "text": [
      "Help on function calculate in module __main__:\n",
      "\n",
      "calculate(matrix, direction=1)\n",
      "    Функция расчёта суммы диагонали матрицы.\n",
      "    Пользовательский выбор диагонали:\n",
      "    1 - слева направо\n",
      "    -1 - справа налево\n",
      "\n"
     ]
    }
   ],
   "source": [
    "help(calculate)"
   ]
  },
  {
   "cell_type": "code",
   "execution_count": 38,
   "metadata": {},
   "outputs": [
    {
     "data": {
      "text/plain": [
       "103"
      ]
     },
     "execution_count": 38,
     "metadata": {},
     "output_type": "execute_result"
    }
   ],
   "source": [
    "calculate(data,1)"
   ]
  },
  {
   "cell_type": "markdown",
   "metadata": {},
   "source": [
    "## Задание 2"
   ]
  },
  {
   "cell_type": "markdown",
   "metadata": {},
   "source": [
    "Дан список чисел, часть из которых имеют строковый тип или содержат буквы. Напишите функцию, которая возвращает сумму квадратов элементов, которые могут быть числами."
   ]
  },
  {
   "cell_type": "code",
   "execution_count": 94,
   "metadata": {},
   "outputs": [],
   "source": [
    "data = [1, '5', 'abc', 20, '2']"
   ]
  },
  {
   "cell_type": "code",
   "execution_count": 129,
   "metadata": {},
   "outputs": [],
   "source": [
    "def sum_of_square(values, power=2):\n",
    "    list_for_sum = []\n",
    "    #валидация пользовательских параметров\n",
    "    try:\n",
    "        if int(power): pass\n",
    "    except:\n",
    "        raise ValueError(\"Ошибка: степенью может быть только число\" )\n",
    "\n",
    "    #выделяем все числа в разных форматах внесения и убираем всё остальное\n",
    "    for value in values:\n",
    "        try:\n",
    "            if int(value): list_for_sum.append(int(value) ** power)\n",
    "        except:\n",
    "            pass\n",
    "    return sum(list_for_sum)"
   ]
  },
  {
   "cell_type": "code",
   "execution_count": 130,
   "metadata": {},
   "outputs": [
    {
     "data": {
      "text/plain": [
       "430"
      ]
     },
     "execution_count": 130,
     "metadata": {},
     "output_type": "execute_result"
    }
   ],
   "source": [
    "sum_of_square(data)"
   ]
  },
  {
   "cell_type": "markdown",
   "metadata": {},
   "source": [
    "## Задание 3"
   ]
  },
  {
   "cell_type": "markdown",
   "metadata": {},
   "source": [
    "Напишите функцию, возвращающую сумму первых n чисел Фибоначчи."
   ]
  },
  {
   "cell_type": "code",
   "execution_count": 198,
   "metadata": {},
   "outputs": [],
   "source": [
    "#первый вариант: без рекурсии и поиска в интернете - своими руками, головой и циклами :)\n",
    "def recursor(n=1, variant=0):\n",
    "    \"\"\"\"\n",
    "    Функция возвращает заданный ряд Фибоначчи\n",
    "    0 = вариант ряда [0, 1]\n",
    "    1 = вариант ряда [1, 1]\n",
    "    \"\"\"\n",
    "    #проверка пользовательских условий\n",
    "    if n<1:\n",
    "        raise ValueError(\"Ошибка: ряд Фибоначчи не может быть менее 1-го элемента\")\n",
    "    if variant not in [0, 1]:\n",
    "        raise ValueError(\"Ошибка: доступен выбор 0 или 1\")\n",
    "    \n",
    "    #возврат результат выбора ряда Фибонначи\n",
    "    if variant == 0:\n",
    "        list_f = [0, 1]\n",
    "    elif variant == 1:\n",
    "        list_f = [1, 1]\n",
    "    \n",
    "    #локальные переменные\n",
    "    last_value = []\n",
    "    previous_value = []\n",
    "    result = []\n",
    "    iterator = 0\n",
    "    \n",
    "    #реализация расчёта\n",
    "    if n == 1:           #для одного элемента\n",
    "        t_list_f = list_f\n",
    "        list_f = []\n",
    "        list_f.append(t_list_f[0])\n",
    "    elif n == 2:        #для двух элементов\n",
    "        pass\n",
    "    else:               #для элементов более двух\n",
    "        n = n-2\n",
    "        while iterator < n:\n",
    "            iterator = iterator + 1\n",
    "            max_value = max(enumerate(list_f))[0]\n",
    "            for value in enumerate(list_f):\n",
    "                if value[0] == max_value:\n",
    "                    last_value = value[1]\n",
    "                elif value[0] == max_value-1:\n",
    "                    previous_value = value[1]\n",
    "            result = last_value + previous_value\n",
    "            list_f.append(result)\n",
    "\n",
    "    return sum(list_f)"
   ]
  },
  {
   "cell_type": "code",
   "execution_count": 199,
   "metadata": {},
   "outputs": [
    {
     "data": {
      "text/plain": [
       "143"
      ]
     },
     "execution_count": 199,
     "metadata": {},
     "output_type": "execute_result"
    }
   ],
   "source": [
    "recursor(10,1)"
   ]
  },
  {
   "cell_type": "code",
   "execution_count": 190,
   "metadata": {},
   "outputs": [],
   "source": [
    "#второй вариант про рекурсию, копи-паст в интернете :) Но не понятно... Хотелось бы пояснений :) \n",
    "#Сам принцип рекурсии и самовызова функции понятен, но вот техническая реализация, побитовые значения и пр. - нет ...\n",
    "MAX = 1000\n",
    "\n",
    "f = [0] * MAX\n",
    "\n",
    "def fib(n): \n",
    "    n = int(n) \n",
    "    if n == 0: \n",
    "        return 0\n",
    "    if n == 1 or n == 2: \n",
    "        return (1) \n",
    "\n",
    "    if f[n] == True: \n",
    "        return f[n] \n",
    "\n",
    "    k = (n+1)/2 if (n & 1) else n/2  #тут я в осадке уже :)\n",
    "\n",
    "    f[n] = (fib(k) * fib(k) + fib(k-1) * fib(k-1)) if (n & 1) else (2 * fib(k-1) + fib(k)) * fib(k) #не говоря про это...\n",
    "    return f[n] \n",
    "\n",
    "def recursor(n): \n",
    "    return fib(n+2) - 1"
   ]
  },
  {
   "cell_type": "code",
   "execution_count": 192,
   "metadata": {},
   "outputs": [
    {
     "data": {
      "text/plain": [
       "143"
      ]
     },
     "execution_count": 192,
     "metadata": {},
     "output_type": "execute_result"
    }
   ],
   "source": [
    "recursor(10)"
   ]
  },
  {
   "cell_type": "markdown",
   "metadata": {},
   "source": [
    "# Задание 4"
   ]
  },
  {
   "cell_type": "markdown",
   "metadata": {},
   "source": [
    "Дан набор данных об обучении студентов на курсе программирования, который содержит: \n",
    "1) имя\n",
    "2) фамилию \n",
    "3) пол \n",
    "4) наличие у студента опыта в программировании \n",
    "5) набор оценок за домашние работы \n",
    "6) оценку за итоговую работу.\n",
    "\n",
    "Напишите программу, которая будет принимать команду от пользователя и возвращать соотвествующий результат.\n",
    "Список команд: \n",
    "1 - вывести на экран среднюю оценку за все ДЗ по группе и вывести на экран среднюю оценку за экзамен по группе;\n",
    "2 - вывести среднюю оценку за ДЗ и за экзамен по группе в разрезе пола студентов\n",
    "3 - вывести среднюю оценку за ДЗ и за экзамен в разрезе наличия опыта в программировании у студентов.\n",
    "\n",
    "Прогрмма должна быть полностью декомпозирована на функции (кроме объявления функций и вызова итоговой функции в реализации ничего быть не должно)."
   ]
  },
  {
   "cell_type": "code",
   "execution_count": 126,
   "metadata": {},
   "outputs": [],
   "source": [
    "students_list = [\n",
    "    {'name': 'Василий', 'surname': 'Теркин', 'sex': 'м', 'program_exp': True, 'grade': [8, 8, 9, 10, 9], 'exam': 9},\n",
    "    {'name': 'Мария', 'surname': 'Павлова', 'sex': 'ж', 'program_exp': True, 'grade': [7, 8, 9, 7, 9], 'exam': 8},\n",
    "    {'name': 'Ирина', 'surname': 'Андреева', 'sex': 'ж', 'program_exp': True, 'grade': [10, 9, 8, 10, 10], 'exam': 10},\n",
    "    {'name': 'Татьяна', 'surname': 'Сидорова', 'sex': 'ж', 'program_exp': True, 'grade': [7, 8, 8, 9, 8], 'exam': 8},\n",
    "    {'name': 'Иван', 'surname': 'Васильев', 'sex': 'ж', 'program_exp': True, 'grade': [9, 8, 9, 6, 9], 'exam': 10},\n",
    "    {'name': 'Роман', 'surname': 'Золотарев', 'sex': 'ж', 'program_exp': False, 'grade': [8, 9, 9, 6, 9], 'exam': 10}\n",
    "]"
   ]
  },
  {
   "cell_type": "code",
   "execution_count": 71,
   "metadata": {},
   "outputs": [],
   "source": [
    "#Первая функция: 1 - вывести на экран среднюю оценку за все ДЗ по группе и вывести на экран среднюю оценку за экзамен по группе\n",
    "def first_implementing(students_list):\n",
    "    #Вначале расчитываем среднее по ДЗ для каждого студента\n",
    "    for stds in students_list:\n",
    "        sum_grade=[]\n",
    "        len_grade=[]\n",
    "        sum_grade=sum(stds['grade'])\n",
    "        len_grade=len(stds['grade'])\n",
    "        stds['av_grade_by_stds']=sum_grade/len_grade\n",
    "\n",
    "    #Считаем среднее значение по ДЗ по группе\n",
    "    count_students = len(students_list)\n",
    "    lst_for_average=[]\n",
    "    result = 0\n",
    "    for stds in students_list:\n",
    "        lst_for_average.append(stds['av_grade_by_stds'])\n",
    "    result = round(sum(lst_for_average)/count_students,1)\n",
    "\n",
    "    #Считаем среднее значение за экзамен по группе\n",
    "    lst_for_average_exam=[]\n",
    "    result_exam = 0\n",
    "    for stds in students_list:\n",
    "        lst_for_average_exam.append(stds['exam'])\n",
    "    result_exam = round(sum(lst_for_average_exam)/count_students,1)\n",
    "\n",
    "    return print(f'Среднее оценка за ДЗ по группе: {result}\\nСредеяя оценка за экзамен по группе: {result_exam}')"
   ]
  },
  {
   "cell_type": "code",
   "execution_count": 116,
   "metadata": {},
   "outputs": [],
   "source": [
    "#Второая функция: 2 - вывести среднюю оценку за ДЗ и за экзамен по группе в разрезе пола студентов\n",
    "def second_implementing(students_list):\n",
    "    #Вначале расчитываем среднее по ДЗ для каждого студента\n",
    "    for stds in students_list:\n",
    "        sum_grade=[]\n",
    "        len_grade=[]\n",
    "        sum_grade=sum(stds['grade'])\n",
    "        len_grade=len(stds['grade'])\n",
    "        stds['av_grade_by_stds']=sum_grade/len_grade\n",
    "\n",
    "    #создаём группы по полу\n",
    "    male=[]\n",
    "    female=[]\n",
    "    for stds in students_list:\n",
    "        if stds['sex'] == 'м':\n",
    "            male.append(stds)\n",
    "        elif stds['sex'] == 'ж':\n",
    "            female.append(stds)\n",
    "\n",
    "    #Считаем среднее значение по ДЗ для мужчин\n",
    "    male_students = len(male)\n",
    "    male_lst_for_average=[]\n",
    "    male_result = 0\n",
    "    for stds in male:\n",
    "        male_lst_for_average.append(stds['av_grade_by_stds'])\n",
    "    male_result = round(sum(male_lst_for_average)/male_students,1)         \n",
    "    \n",
    "    #Считаем среднее значение по ДЗ для женщин\n",
    "    female_students = len(female)\n",
    "    female_lst_for_average=[]\n",
    "    female_result = 0\n",
    "    for stds in female:\n",
    "        female_lst_for_average.append(stds['av_grade_by_stds'])\n",
    "    female_result = round(sum(female_lst_for_average)/female_students,1)         \n",
    "\n",
    "    #Считаем среднее значение за экзамен для мужчин\n",
    "    male_lst_for_average_exam=[]\n",
    "    male_result_exam = 0\n",
    "    for stds in male:\n",
    "        male_lst_for_average_exam.append(stds['exam'])\n",
    "    male_result_exam = round(sum(male_lst_for_average_exam)/male_students,1)\n",
    "    \n",
    "    #Считаем среднее значение за экзамен для женщин\n",
    "    female_lst_for_average_exam=[]\n",
    "    female_result_exam = 0\n",
    "    for stds in female:\n",
    "        female_lst_for_average_exam.append(stds['exam'])\n",
    "    female_result_exam = round(sum(female_lst_for_average_exam)/female_students,1)\n",
    "            \n",
    "    return print(f'Среднее оценка за ДЗ по группе для мужчин: {male_result}\\nСреднее оценка за ДЗ по группе для женщин: {female_result}\\nСреднее оценка за экзмамен по группе для мужчин: {male_result_exam}\\nСреднее оценка за экзмамен по группе для женщин: {female_result_exam}')"
   ]
  },
  {
   "cell_type": "code",
   "execution_count": 130,
   "metadata": {},
   "outputs": [],
   "source": [
    "#Третья функция: 3 - вывести среднюю оценку за ДЗ и за экзамен в разрезе наличия опыта в программировании у студентов\n",
    "def third_implementing(students_list):\n",
    "    #Вначале расчитываем среднее по ДЗ для каждого студента\n",
    "    for stds in students_list:\n",
    "        sum_grade=[]\n",
    "        len_grade=[]\n",
    "        sum_grade=sum(stds['grade'])\n",
    "        len_grade=len(stds['grade'])\n",
    "        stds['av_grade_by_stds']=sum_grade/len_grade\n",
    "\n",
    "    #создаём группы по опыту\n",
    "    true_=[]\n",
    "    false_=[]\n",
    "    for stds in students_list:\n",
    "        if stds['program_exp'] == True:\n",
    "            true_.append(stds)\n",
    "        elif stds['program_exp'] == False:\n",
    "            false_.append(stds)\n",
    "\n",
    "    #Считаем среднее значение по ДЗ для опытных\n",
    "    true_students = len(true_)\n",
    "    true_lst_for_average=[]\n",
    "    true_result = 0\n",
    "    for stds in true_:\n",
    "        true_lst_for_average.append(stds['av_grade_by_stds'])\n",
    "    true_result = round(sum(true_lst_for_average)/true_students,1)         \n",
    "    \n",
    "    #Считаем среднее значение по ДЗ без опыта\n",
    "    false_students = len(false_)\n",
    "    false_lst_for_average=[]\n",
    "    false_result = 0\n",
    "    for stds in false_:\n",
    "        false_lst_for_average.append(stds['av_grade_by_stds'])\n",
    "    false_result = round(sum(false_lst_for_average)/false_students,1)         \n",
    "\n",
    "    #Считаем среднее значение за экзамен для опытных\n",
    "    true_lst_for_average_exam=[]\n",
    "    true_result_exam = 0\n",
    "    for stds in true_:\n",
    "        true_lst_for_average_exam.append(stds['exam'])\n",
    "    true_result_exam = round(sum(true_lst_for_average_exam)/true_students,1)\n",
    "    \n",
    "    #Считаем среднее значение за экзамен без опыта\n",
    "    false_lst_for_average_exam=[]\n",
    "    false_result_exam = 0\n",
    "    for stds in false_:\n",
    "        false_lst_for_average_exam.append(stds['exam'])\n",
    "    false_result_exam = round(sum(false_lst_for_average_exam)/false_students,1)\n",
    "            \n",
    "    return print(f'Среднее оценка за ДЗ по группе опытных: {true_result}\\nСреднее оценка за ДЗ по группе без опыта: {false_result}\\nСреднее оценка за экзмамен для опытных: {true_result_exam}\\nСреднее оценка за экзмамен без опыта: {false_result_exam}')"
   ]
  },
  {
   "cell_type": "code",
   "execution_count": 182,
   "metadata": {},
   "outputs": [],
   "source": [
    "#Результирующая функция\n",
    "def integration(table):\n",
    "    \"\"\"\"\n",
    "    Пользователь может вызвать три варианта функции:\n",
    "    1 - вывести на экран среднюю оценку за все ДЗ по группе и вывести на экран среднюю оценку за экзамен по группе\n",
    "    2 - вывести среднюю оценку за ДЗ и за экзамен по группе в разрезе пола студентов \n",
    "    3 - вывести среднюю оценку за ДЗ и за экзамен в разрезе наличия опыта в программировании у студентов\n",
    "    \"\"\"\n",
    "    user_input = int(input('Введите номер функции (от 1 до 3): '))\n",
    "    \n",
    "    #валидация пользовательских параметров\n",
    "    valid = [1, 2, 3]\n",
    "    if user_input not in valid:\n",
    "        raise ValueError(f\"Ошибка: для пользовательского выбора доступно только {valid}\" )\n",
    "    \n",
    "    if user_input == 1:\n",
    "        return first_implementing(table)\n",
    "    elif user_input == 2:\n",
    "        return second_implementing(table)\n",
    "    elif user_input == 3:\n",
    "        return third_implementing(table)"
   ]
  },
  {
   "cell_type": "code",
   "execution_count": 185,
   "metadata": {},
   "outputs": [
    {
     "name": "stdout",
     "output_type": "stream",
     "text": [
      "Help on function integration in module __main__:\n",
      "\n",
      "integration(table)\n",
      "    \"\n",
      "    Пользователь может вызвать три варианта функции:\n",
      "    1 - вывести на экран среднюю оценку за все ДЗ по группе и вывести на экран среднюю оценку за экзамен по группе\n",
      "    2 - вывести среднюю оценку за ДЗ и за экзамен по группе в разрезе пола студентов \n",
      "    3 - вывести среднюю оценку за ДЗ и за экзамен в разрезе наличия опыта в программировании у студентов\n",
      "\n"
     ]
    }
   ],
   "source": [
    "help(integration)"
   ]
  },
  {
   "cell_type": "code",
   "execution_count": 184,
   "metadata": {},
   "outputs": [
    {
     "name": "stdout",
     "output_type": "stream",
     "text": [
      "Введите номер функции (от 1 до 3): 3\n",
      "Среднее оценка за ДЗ по группе опытных: 8.5\n",
      "Среднее оценка за ДЗ по группе без опыта: 8.2\n",
      "Среднее оценка за экзмамен для опытных: 9.0\n",
      "Среднее оценка за экзмамен без опыта: 10.0\n"
     ]
    }
   ],
   "source": [
    "integration(students_list)"
   ]
  }
 ],
 "metadata": {
  "kernelspec": {
   "display_name": "Python 3",
   "language": "python",
   "name": "python3"
  },
  "language_info": {
   "codemirror_mode": {
    "name": "ipython",
    "version": 3
   },
   "file_extension": ".py",
   "mimetype": "text/x-python",
   "name": "python",
   "nbconvert_exporter": "python",
   "pygments_lexer": "ipython3",
   "version": "3.6.4"
  }
 },
 "nbformat": 4,
 "nbformat_minor": 2
}
